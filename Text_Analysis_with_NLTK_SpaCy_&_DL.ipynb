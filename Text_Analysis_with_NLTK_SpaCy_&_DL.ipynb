{
  "cells": [
    {
      "cell_type": "markdown",
      "id": "iYc1USSGlkm2",
      "metadata": {
        "id": "iYc1USSGlkm2"
      },
      "source": [
        "# Natural Language Processing with NLTK, SpaCy, Word2Vec, and TF-IDF"
      ]
    },
    {
      "cell_type": "markdown",
      "id": "23mP0D_9lqGX",
      "metadata": {
        "id": "23mP0D_9lqGX"
      },
      "source": [
        "## Objective: In this assignment, you will learn how to perform Natural Language Processing tasks using Python libraries such as NLTK, SpaCy, Word2Vec, and TF-IDF. You will practice techniques such as tokenization, stemming, lemmatization, and document similarity calculation using these libraries. You will use the BBC News dataset available on Kaggle."
      ]
    },
    {
      "cell_type": "markdown",
      "id": "cL1zOYrLlx7r",
      "metadata": {
        "id": "cL1zOYrLlx7r"
      },
      "source": [
        "## Tasks:"
      ]
    },
    {
      "cell_type": "markdown",
      "id": "Ijbt9px9l09A",
      "metadata": {
        "id": "Ijbt9px9l09A"
      },
      "source": [
        "### 1. Import the necessary libraries: Start by importing the required libraries, including NLTK, SpaCy, gensim, and scikit-learn."
      ]
    },
    {
      "cell_type": "code",
      "execution_count": 46,
      "id": "d58007c8",
      "metadata": {
        "id": "d58007c8"
      },
      "outputs": [],
      "source": [
        "import pandas as pd\n",
        "import matplotlib.pyplot as plt\n",
        "import spacy\n",
        "import nltk\n",
        "import gensim\n",
        "import sklearn"
      ]
    },
    {
      "cell_type": "markdown",
      "id": "MckAcP5DmJ0p",
      "metadata": {
        "id": "MckAcP5DmJ0p"
      },
      "source": [
        "### 2. Load the dataset: Load the BBC News dataset(BBC_DATA.csv) into a pandas DataFrame using the read_csv() function. The dataset contains 1,490 rows and 3 columns, with the first column containing the text of the news articles."
      ]
    },
    {
      "cell_type": "code",
      "execution_count": 47,
      "id": "Tl5_pBU6ZJFz",
      "metadata": {
        "id": "Tl5_pBU6ZJFz"
      },
      "outputs": [],
      "source": [
        "data = pd.read_csv(\"BBC_DATA.csv\")"
      ]
    },
    {
      "cell_type": "code",
      "execution_count": 48,
      "id": "Cy5wz3QonBlT",
      "metadata": {
        "colab": {
          "base_uri": "https://localhost:8080/"
        },
        "id": "Cy5wz3QonBlT",
        "outputId": "a126c218-cb11-46d9-f066-cdc6c9c5fc0e"
      },
      "outputs": [
        {
          "output_type": "execute_result",
          "data": {
            "text/plain": [
              "(1490, 3)"
            ]
          },
          "metadata": {},
          "execution_count": 48
        }
      ],
      "source": [
        "data.shape"
      ]
    },
    {
      "cell_type": "code",
      "execution_count": 49,
      "id": "I-iF70bAZSu4",
      "metadata": {
        "colab": {
          "base_uri": "https://localhost:8080/",
          "height": 206
        },
        "id": "I-iF70bAZSu4",
        "outputId": "434ee616-564e-441b-cb98-72c6a5fb2c8a"
      },
      "outputs": [
        {
          "output_type": "execute_result",
          "data": {
            "text/plain": [
              "   ArticleId                                               Text  Category\n",
              "0       1833  worldcom ex-boss launches defence lawyers defe...  business\n",
              "1        154  german business confidence slides german busin...  business\n",
              "2       1101  bbc poll indicates economic gloom citizens in ...  business\n",
              "3       1976  lifestyle  governs mobile choice  faster  bett...      tech\n",
              "4        917  enron bosses in $168m payout eighteen former e...  business"
            ],
            "text/html": [
              "\n",
              "  <div id=\"df-da38e470-994b-4954-b20a-bba676bb1959\" class=\"colab-df-container\">\n",
              "    <div>\n",
              "<style scoped>\n",
              "    .dataframe tbody tr th:only-of-type {\n",
              "        vertical-align: middle;\n",
              "    }\n",
              "\n",
              "    .dataframe tbody tr th {\n",
              "        vertical-align: top;\n",
              "    }\n",
              "\n",
              "    .dataframe thead th {\n",
              "        text-align: right;\n",
              "    }\n",
              "</style>\n",
              "<table border=\"1\" class=\"dataframe\">\n",
              "  <thead>\n",
              "    <tr style=\"text-align: right;\">\n",
              "      <th></th>\n",
              "      <th>ArticleId</th>\n",
              "      <th>Text</th>\n",
              "      <th>Category</th>\n",
              "    </tr>\n",
              "  </thead>\n",
              "  <tbody>\n",
              "    <tr>\n",
              "      <th>0</th>\n",
              "      <td>1833</td>\n",
              "      <td>worldcom ex-boss launches defence lawyers defe...</td>\n",
              "      <td>business</td>\n",
              "    </tr>\n",
              "    <tr>\n",
              "      <th>1</th>\n",
              "      <td>154</td>\n",
              "      <td>german business confidence slides german busin...</td>\n",
              "      <td>business</td>\n",
              "    </tr>\n",
              "    <tr>\n",
              "      <th>2</th>\n",
              "      <td>1101</td>\n",
              "      <td>bbc poll indicates economic gloom citizens in ...</td>\n",
              "      <td>business</td>\n",
              "    </tr>\n",
              "    <tr>\n",
              "      <th>3</th>\n",
              "      <td>1976</td>\n",
              "      <td>lifestyle  governs mobile choice  faster  bett...</td>\n",
              "      <td>tech</td>\n",
              "    </tr>\n",
              "    <tr>\n",
              "      <th>4</th>\n",
              "      <td>917</td>\n",
              "      <td>enron bosses in $168m payout eighteen former e...</td>\n",
              "      <td>business</td>\n",
              "    </tr>\n",
              "  </tbody>\n",
              "</table>\n",
              "</div>\n",
              "    <div class=\"colab-df-buttons\">\n",
              "\n",
              "  <div class=\"colab-df-container\">\n",
              "    <button class=\"colab-df-convert\" onclick=\"convertToInteractive('df-da38e470-994b-4954-b20a-bba676bb1959')\"\n",
              "            title=\"Convert this dataframe to an interactive table.\"\n",
              "            style=\"display:none;\">\n",
              "\n",
              "  <svg xmlns=\"http://www.w3.org/2000/svg\" height=\"24px\" viewBox=\"0 -960 960 960\">\n",
              "    <path d=\"M120-120v-720h720v720H120Zm60-500h600v-160H180v160Zm220 220h160v-160H400v160Zm0 220h160v-160H400v160ZM180-400h160v-160H180v160Zm440 0h160v-160H620v160ZM180-180h160v-160H180v160Zm440 0h160v-160H620v160Z\"/>\n",
              "  </svg>\n",
              "    </button>\n",
              "\n",
              "  <style>\n",
              "    .colab-df-container {\n",
              "      display:flex;\n",
              "      gap: 12px;\n",
              "    }\n",
              "\n",
              "    .colab-df-convert {\n",
              "      background-color: #E8F0FE;\n",
              "      border: none;\n",
              "      border-radius: 50%;\n",
              "      cursor: pointer;\n",
              "      display: none;\n",
              "      fill: #1967D2;\n",
              "      height: 32px;\n",
              "      padding: 0 0 0 0;\n",
              "      width: 32px;\n",
              "    }\n",
              "\n",
              "    .colab-df-convert:hover {\n",
              "      background-color: #E2EBFA;\n",
              "      box-shadow: 0px 1px 2px rgba(60, 64, 67, 0.3), 0px 1px 3px 1px rgba(60, 64, 67, 0.15);\n",
              "      fill: #174EA6;\n",
              "    }\n",
              "\n",
              "    .colab-df-buttons div {\n",
              "      margin-bottom: 4px;\n",
              "    }\n",
              "\n",
              "    [theme=dark] .colab-df-convert {\n",
              "      background-color: #3B4455;\n",
              "      fill: #D2E3FC;\n",
              "    }\n",
              "\n",
              "    [theme=dark] .colab-df-convert:hover {\n",
              "      background-color: #434B5C;\n",
              "      box-shadow: 0px 1px 3px 1px rgba(0, 0, 0, 0.15);\n",
              "      filter: drop-shadow(0px 1px 2px rgba(0, 0, 0, 0.3));\n",
              "      fill: #FFFFFF;\n",
              "    }\n",
              "  </style>\n",
              "\n",
              "    <script>\n",
              "      const buttonEl =\n",
              "        document.querySelector('#df-da38e470-994b-4954-b20a-bba676bb1959 button.colab-df-convert');\n",
              "      buttonEl.style.display =\n",
              "        google.colab.kernel.accessAllowed ? 'block' : 'none';\n",
              "\n",
              "      async function convertToInteractive(key) {\n",
              "        const element = document.querySelector('#df-da38e470-994b-4954-b20a-bba676bb1959');\n",
              "        const dataTable =\n",
              "          await google.colab.kernel.invokeFunction('convertToInteractive',\n",
              "                                                    [key], {});\n",
              "        if (!dataTable) return;\n",
              "\n",
              "        const docLinkHtml = 'Like what you see? Visit the ' +\n",
              "          '<a target=\"_blank\" href=https://colab.research.google.com/notebooks/data_table.ipynb>data table notebook</a>'\n",
              "          + ' to learn more about interactive tables.';\n",
              "        element.innerHTML = '';\n",
              "        dataTable['output_type'] = 'display_data';\n",
              "        await google.colab.output.renderOutput(dataTable, element);\n",
              "        const docLink = document.createElement('div');\n",
              "        docLink.innerHTML = docLinkHtml;\n",
              "        element.appendChild(docLink);\n",
              "      }\n",
              "    </script>\n",
              "  </div>\n",
              "\n",
              "\n",
              "<div id=\"df-5c35fe80-c9b9-49fc-ba18-3a66b1d37479\">\n",
              "  <button class=\"colab-df-quickchart\" onclick=\"quickchart('df-5c35fe80-c9b9-49fc-ba18-3a66b1d37479')\"\n",
              "            title=\"Suggest charts\"\n",
              "            style=\"display:none;\">\n",
              "\n",
              "<svg xmlns=\"http://www.w3.org/2000/svg\" height=\"24px\"viewBox=\"0 0 24 24\"\n",
              "     width=\"24px\">\n",
              "    <g>\n",
              "        <path d=\"M19 3H5c-1.1 0-2 .9-2 2v14c0 1.1.9 2 2 2h14c1.1 0 2-.9 2-2V5c0-1.1-.9-2-2-2zM9 17H7v-7h2v7zm4 0h-2V7h2v10zm4 0h-2v-4h2v4z\"/>\n",
              "    </g>\n",
              "</svg>\n",
              "  </button>\n",
              "\n",
              "<style>\n",
              "  .colab-df-quickchart {\n",
              "      --bg-color: #E8F0FE;\n",
              "      --fill-color: #1967D2;\n",
              "      --hover-bg-color: #E2EBFA;\n",
              "      --hover-fill-color: #174EA6;\n",
              "      --disabled-fill-color: #AAA;\n",
              "      --disabled-bg-color: #DDD;\n",
              "  }\n",
              "\n",
              "  [theme=dark] .colab-df-quickchart {\n",
              "      --bg-color: #3B4455;\n",
              "      --fill-color: #D2E3FC;\n",
              "      --hover-bg-color: #434B5C;\n",
              "      --hover-fill-color: #FFFFFF;\n",
              "      --disabled-bg-color: #3B4455;\n",
              "      --disabled-fill-color: #666;\n",
              "  }\n",
              "\n",
              "  .colab-df-quickchart {\n",
              "    background-color: var(--bg-color);\n",
              "    border: none;\n",
              "    border-radius: 50%;\n",
              "    cursor: pointer;\n",
              "    display: none;\n",
              "    fill: var(--fill-color);\n",
              "    height: 32px;\n",
              "    padding: 0;\n",
              "    width: 32px;\n",
              "  }\n",
              "\n",
              "  .colab-df-quickchart:hover {\n",
              "    background-color: var(--hover-bg-color);\n",
              "    box-shadow: 0 1px 2px rgba(60, 64, 67, 0.3), 0 1px 3px 1px rgba(60, 64, 67, 0.15);\n",
              "    fill: var(--button-hover-fill-color);\n",
              "  }\n",
              "\n",
              "  .colab-df-quickchart-complete:disabled,\n",
              "  .colab-df-quickchart-complete:disabled:hover {\n",
              "    background-color: var(--disabled-bg-color);\n",
              "    fill: var(--disabled-fill-color);\n",
              "    box-shadow: none;\n",
              "  }\n",
              "\n",
              "  .colab-df-spinner {\n",
              "    border: 2px solid var(--fill-color);\n",
              "    border-color: transparent;\n",
              "    border-bottom-color: var(--fill-color);\n",
              "    animation:\n",
              "      spin 1s steps(1) infinite;\n",
              "  }\n",
              "\n",
              "  @keyframes spin {\n",
              "    0% {\n",
              "      border-color: transparent;\n",
              "      border-bottom-color: var(--fill-color);\n",
              "      border-left-color: var(--fill-color);\n",
              "    }\n",
              "    20% {\n",
              "      border-color: transparent;\n",
              "      border-left-color: var(--fill-color);\n",
              "      border-top-color: var(--fill-color);\n",
              "    }\n",
              "    30% {\n",
              "      border-color: transparent;\n",
              "      border-left-color: var(--fill-color);\n",
              "      border-top-color: var(--fill-color);\n",
              "      border-right-color: var(--fill-color);\n",
              "    }\n",
              "    40% {\n",
              "      border-color: transparent;\n",
              "      border-right-color: var(--fill-color);\n",
              "      border-top-color: var(--fill-color);\n",
              "    }\n",
              "    60% {\n",
              "      border-color: transparent;\n",
              "      border-right-color: var(--fill-color);\n",
              "    }\n",
              "    80% {\n",
              "      border-color: transparent;\n",
              "      border-right-color: var(--fill-color);\n",
              "      border-bottom-color: var(--fill-color);\n",
              "    }\n",
              "    90% {\n",
              "      border-color: transparent;\n",
              "      border-bottom-color: var(--fill-color);\n",
              "    }\n",
              "  }\n",
              "</style>\n",
              "\n",
              "  <script>\n",
              "    async function quickchart(key) {\n",
              "      const quickchartButtonEl =\n",
              "        document.querySelector('#' + key + ' button');\n",
              "      quickchartButtonEl.disabled = true;  // To prevent multiple clicks.\n",
              "      quickchartButtonEl.classList.add('colab-df-spinner');\n",
              "      try {\n",
              "        const charts = await google.colab.kernel.invokeFunction(\n",
              "            'suggestCharts', [key], {});\n",
              "      } catch (error) {\n",
              "        console.error('Error during call to suggestCharts:', error);\n",
              "      }\n",
              "      quickchartButtonEl.classList.remove('colab-df-spinner');\n",
              "      quickchartButtonEl.classList.add('colab-df-quickchart-complete');\n",
              "    }\n",
              "    (() => {\n",
              "      let quickchartButtonEl =\n",
              "        document.querySelector('#df-5c35fe80-c9b9-49fc-ba18-3a66b1d37479 button');\n",
              "      quickchartButtonEl.style.display =\n",
              "        google.colab.kernel.accessAllowed ? 'block' : 'none';\n",
              "    })();\n",
              "  </script>\n",
              "</div>\n",
              "\n",
              "    </div>\n",
              "  </div>\n"
            ]
          },
          "metadata": {},
          "execution_count": 49
        }
      ],
      "source": [
        "data.head()"
      ]
    },
    {
      "cell_type": "code",
      "execution_count": 50,
      "id": "oFj_1o1emvQM",
      "metadata": {
        "colab": {
          "base_uri": "https://localhost:8080/"
        },
        "id": "oFj_1o1emvQM",
        "outputId": "02791212-f9f9-404b-abb1-72155af8347d"
      },
      "outputs": [
        {
          "output_type": "stream",
          "name": "stdout",
          "text": [
            "<class 'pandas.core.frame.DataFrame'>\n",
            "RangeIndex: 1490 entries, 0 to 1489\n",
            "Data columns (total 3 columns):\n",
            " #   Column     Non-Null Count  Dtype \n",
            "---  ------     --------------  ----- \n",
            " 0   ArticleId  1490 non-null   int64 \n",
            " 1   Text       1490 non-null   object\n",
            " 2   Category   1490 non-null   object\n",
            "dtypes: int64(1), object(2)\n",
            "memory usage: 35.0+ KB\n"
          ]
        }
      ],
      "source": [
        "data.info()"
      ]
    },
    {
      "cell_type": "code",
      "execution_count": 51,
      "id": "3pwKkSl-m3g8",
      "metadata": {
        "colab": {
          "base_uri": "https://localhost:8080/"
        },
        "id": "3pwKkSl-m3g8",
        "outputId": "3a509d06-33ab-436d-996b-5bfa841e9287"
      },
      "outputs": [
        {
          "output_type": "execute_result",
          "data": {
            "text/plain": [
              "ArticleId    0\n",
              "Text         0\n",
              "Category     0\n",
              "dtype: int64"
            ]
          },
          "metadata": {},
          "execution_count": 51
        }
      ],
      "source": [
        "data.isnull().sum()"
      ]
    },
    {
      "cell_type": "code",
      "execution_count": 52,
      "id": "6UtGMQLVMpVA",
      "metadata": {
        "colab": {
          "base_uri": "https://localhost:8080/"
        },
        "id": "6UtGMQLVMpVA",
        "outputId": "d4d42e11-e8c3-4857-afcd-bed15c08e875"
      },
      "outputs": [
        {
          "output_type": "execute_result",
          "data": {
            "text/plain": [
              "array(['business', 'tech', 'politics', 'sport', 'entertainment'],\n",
              "      dtype=object)"
            ]
          },
          "metadata": {},
          "execution_count": 52
        }
      ],
      "source": [
        "data['Category'].unique()"
      ]
    },
    {
      "cell_type": "code",
      "execution_count": 53,
      "id": "UpEALwCBMuRf",
      "metadata": {
        "colab": {
          "base_uri": "https://localhost:8080/",
          "height": 548
        },
        "id": "UpEALwCBMuRf",
        "outputId": "0023cc51-ab4a-4bcb-f484-be22f6f315d8"
      },
      "outputs": [
        {
          "output_type": "execute_result",
          "data": {
            "text/plain": [
              "<Axes: >"
            ]
          },
          "metadata": {},
          "execution_count": 53
        },
        {
          "output_type": "display_data",
          "data": {
            "text/plain": [
              "<Figure size 1000x500 with 1 Axes>"
            ],
            "image/png": "[encoded data removed]"
          },
          "metadata": {}
        }
      ],
      "source": [
        "data['Category'].value_counts().plot(kind=\"bar\", figsize=(10,5))"
      ]
    },
    {
      "cell_type": "markdown",
      "id": "S3XbUrn4NZsQ",
      "metadata": {
        "id": "S3XbUrn4NZsQ"
      },
      "source": [
        "### 3. Tokenization with NLTK: Implement tokenization using NLTK's word_tokenize() and sent_tokenize() functions. Apply these functions to a sample news article from the dataset."
      ]
    },
    {
      "cell_type": "code",
      "execution_count": 54,
      "id": "9F7GuNdnNYrD",
      "metadata": {
        "id": "9F7GuNdnNYrD"
      },
      "outputs": [],
      "source": [
        "from nltk import word_tokenize, sent_tokenize"
      ]
    },
    {
      "cell_type": "code",
      "execution_count": 55,
      "id": "sf9QikCHQqZn",
      "metadata": {
        "colab": {
          "base_uri": "https://localhost:8080/"
        },
        "id": "sf9QikCHQqZn",
        "outputId": "15f04642-0226-40ff-96cb-61f3927d024c"
      },
      "outputs": [
        {
          "output_type": "stream",
          "name": "stderr",
          "text": [
            "[nltk_data] Downloading package punkt to /root/nltk_data...\n",
            "[nltk_data]   Package punkt is already up-to-date!\n"
          ]
        },
        {
          "output_type": "execute_result",
          "data": {
            "text/plain": [
              "True"
            ]
          },
          "metadata": {},
          "execution_count": 55
        }
      ],
      "source": [
        "nltk.download('punkt')"
      ]
    },
    {
      "cell_type": "code",
      "execution_count": 56,
      "id": "6qJ-eyJ2Nqhc",
      "metadata": {
        "id": "6qJ-eyJ2Nqhc"
      },
      "outputs": [],
      "source": [
        "sample_data = data[\"Text\"].iloc[:10]"
      ]
    },
    {
      "cell_type": "code",
      "execution_count": 57,
      "id": "WPcifZqqN7-H",
      "metadata": {
        "colab": {
          "base_uri": "https://localhost:8080/"
        },
        "id": "WPcifZqqN7-H",
        "outputId": "996e1e5e-7b8b-4f20-f303-5d4d505daa80"
      },
      "outputs": [
        {
          "output_type": "stream",
          "name": "stdout",
          "text": [
            "['worldcom', 'ex-boss', 'launches', 'defence', 'lawyers', 'defending', 'former', 'worldcom', 'chief', 'bernie', 'ebbers', 'against', 'a', 'battery', 'of', 'fraud', 'charges', 'have', 'called', 'a', 'company', 'whistleblower', 'as', 'their', 'first', 'witness', '.', 'cynthia', 'cooper', 'worldcom', 's', 'ex-head', 'of', 'internal', 'accounting', 'alerted', 'directors', 'to', 'irregular', 'accounting', 'practices', 'at', 'the', 'us', 'telecoms', 'giant', 'in', '2002.', 'her', 'warnings', 'led', 'to', 'the', 'collapse', 'of', 'the', 'firm', 'following', 'the', 'discovery', 'of', 'an', '$', '11bn', '(', '£5.7bn', ')', 'accounting', 'fraud', '.', 'mr', 'ebbers', 'has', 'pleaded', 'not', 'guilty', 'to', 'charges', 'of', 'fraud', 'and', 'conspiracy', '.', 'prosecution', 'lawyers', 'have', 'argued', 'that', 'mr', 'ebbers', 'orchestrated', 'a', 'series', 'of', 'accounting', 'tricks', 'at', 'worldcom', 'ordering', 'employees', 'to', 'hide', 'expenses', 'and', 'inflate', 'revenues', 'to', 'meet', 'wall', 'street', 'earnings', 'estimates', '.', 'but', 'ms', 'cooper', 'who', 'now', 'runs', 'her', 'own', 'consulting', 'business', 'told', 'a', 'jury', 'in', 'new', 'york', 'on', 'wednesday', 'that', 'external', 'auditors', 'arthur', 'andersen', 'had', 'approved', 'worldcom', 's', 'accounting', 'in', 'early', '2001', 'and', '2002.', 'she', 'said', 'andersen', 'had', 'given', 'a', 'green', 'light', 'to', 'the', 'procedures', 'and', 'practices', 'used', 'by', 'worldcom', '.', 'mr', 'ebber', 's', 'lawyers', 'have', 'said', 'he', 'was', 'unaware', 'of', 'the', 'fraud', 'arguing', 'that', 'auditors', 'did', 'not', 'alert', 'him', 'to', 'any', 'problems', '.', 'ms', 'cooper', 'also', 'said', 'that', 'during', 'shareholder', 'meetings', 'mr', 'ebbers', 'often', 'passed', 'over', 'technical', 'questions', 'to', 'the', 'company', 's', 'finance', 'chief', 'giving', 'only', 'brief', 'answers', 'himself', '.', 'the', 'prosecution', 's', 'star', 'witness', 'former', 'worldcom', 'financial', 'chief', 'scott', 'sullivan', 'has', 'said', 'that', 'mr', 'ebbers', 'ordered', 'accounting', 'adjustments', 'at', 'the', 'firm', 'telling', 'him', 'to', 'hit', 'our', 'books', '.', 'however', 'ms', 'cooper', 'said', 'mr', 'sullivan', 'had', 'not', 'mentioned', 'anything', 'uncomfortable', 'about', 'worldcom', 's', 'accounting', 'during', 'a', '2001', 'audit', 'committee', 'meeting', '.', 'mr', 'ebbers', 'could', 'face', 'a', 'jail', 'sentence', 'of', '85', 'years', 'if', 'convicted', 'of', 'all', 'the', 'charges', 'he', 'is', 'facing', '.', 'worldcom', 'emerged', 'from', 'bankruptcy', 'protection', 'in', '2004', 'and', 'is', 'now', 'known', 'as', 'mci', '.', 'last', 'week', 'mci', 'agreed', 'to', 'a', 'buyout', 'by', 'verizon', 'communications', 'in', 'a', 'deal', 'valued', 'at', '$', '6.75bn', '.']\n",
            "Number of tokens in a sentence: 316\n",
            "['german', 'business', 'confidence', 'slides', 'german', 'business', 'confidence', 'fell', 'in', 'february', 'knocking', 'hopes', 'of', 'a', 'speedy', 'recovery', 'in', 'europe', 's', 'largest', 'economy', '.', 'munich-based', 'research', 'institute', 'ifo', 'said', 'that', 'its', 'confidence', 'index', 'fell', 'to', '95.5', 'in', 'february', 'from', '97.5', 'in', 'january', 'its', 'first', 'decline', 'in', 'three', 'months', '.', 'the', 'study', 'found', 'that', 'the', 'outlook', 'in', 'both', 'the', 'manufacturing', 'and', 'retail', 'sectors', 'had', 'worsened', '.', 'observers', 'had', 'been', 'hoping', 'that', 'a', 'more', 'confident', 'business', 'sector', 'would', 'signal', 'that', 'economic', 'activity', 'was', 'picking', 'up', '.', 'we', 're', 'surprised', 'that', 'the', 'ifo', 'index', 'has', 'taken', 'such', 'a', 'knock', 'said', 'dz', 'bank', 'economist', 'bernd', 'weidensteiner', '.', 'the', 'main', 'reason', 'is', 'probably', 'that', 'the', 'domestic', 'economy', 'is', 'still', 'weak', 'particularly', 'in', 'the', 'retail', 'trade', '.', 'economy', 'and', 'labour', 'minister', 'wolfgang', 'clement', 'called', 'the', 'dip', 'in', 'february', 's', 'ifo', 'confidence', 'figure', 'a', 'very', 'mild', 'decline', '.', 'he', 'said', 'that', 'despite', 'the', 'retreat', 'the', 'index', 'remained', 'at', 'a', 'relatively', 'high', 'level', 'and', 'that', 'he', 'expected', 'a', 'modest', 'economic', 'upswing', 'to', 'continue', '.', 'germany', 's', 'economy', 'grew', '1.6', '%', 'last', 'year', 'after', 'shrinking', 'in', '2003.', 'however', 'the', 'economy', 'contracted', 'by', '0.2', '%', 'during', 'the', 'last', 'three', 'months', 'of', '2004', 'mainly', 'due', 'to', 'the', 'reluctance', 'of', 'consumers', 'to', 'spend', '.', 'latest', 'indications', 'are', 'that', 'growth', 'is', 'still', 'proving', 'elusive', 'and', 'ifo', 'president', 'hans-werner', 'sinn', 'said', 'any', 'improvement', 'in', 'german', 'domestic', 'demand', 'was', 'sluggish', '.', 'exports', 'had', 'kept', 'things', 'going', 'during', 'the', 'first', 'half', 'of', '2004', 'but', 'demand', 'for', 'exports', 'was', 'then', 'hit', 'as', 'the', 'value', 'of', 'the', 'euro', 'hit', 'record', 'levels', 'making', 'german', 'products', 'less', 'competitive', 'overseas', '.', 'on', 'top', 'of', 'that', 'the', 'unemployment', 'rate', 'has', 'been', 'stuck', 'at', 'close', 'to', '10', '%', 'and', 'manufacturing', 'firms', 'including', 'daimlerchrysler', 'siemens', 'and', 'volkswagen', 'have', 'been', 'negotiating', 'with', 'unions', 'over', 'cost', 'cutting', 'measures', '.', 'analysts', 'said', 'that', 'the', 'ifo', 'figures', 'and', 'germany', 's', 'continuing', 'problems', 'may', 'delay', 'an', 'interest', 'rate', 'rise', 'by', 'the', 'european', 'central', 'bank', '.', 'eurozone', 'interest', 'rates', 'are', 'at', '2', '%', 'but', 'comments', 'from', 'senior', 'officials', 'have', 'recently', 'focused', 'on', 'the', 'threat', 'of', 'inflation', 'prompting', 'fears', 'that', 'interest', 'rates', 'may', 'rise', '.']\n",
            "Number of tokens in a sentence: 342\n",
            "['bbc', 'poll', 'indicates', 'economic', 'gloom', 'citizens', 'in', 'a', 'majority', 'of', 'nations', 'surveyed', 'in', 'a', 'bbc', 'world', 'service', 'poll', 'believe', 'the', 'world', 'economy', 'is', 'worsening', '.', 'most', 'respondents', 'also', 'said', 'their', 'national', 'economy', 'was', 'getting', 'worse', '.', 'but', 'when', 'asked', 'about', 'their', 'own', 'family', 's', 'financial', 'outlook', 'a', 'majority', 'in', '14', 'countries', 'said', 'they', 'were', 'positive', 'about', 'the', 'future', '.', 'almost', '23', '000', 'people', 'in', '22', 'countries', 'were', 'questioned', 'for', 'the', 'poll', 'which', 'was', 'mostly', 'conducted', 'before', 'the', 'asian', 'tsunami', 'disaster', '.', 'the', 'poll', 'found', 'that', 'a', 'majority', 'or', 'plurality', 'of', 'people', 'in', '13', 'countries', 'believed', 'the', 'economy', 'was', 'going', 'downhill', 'compared', 'with', 'respondents', 'in', 'nine', 'countries', 'who', 'believed', 'it', 'was', 'improving', '.', 'those', 'surveyed', 'in', 'three', 'countries', 'were', 'split', '.', 'in', 'percentage', 'terms', 'an', 'average', 'of', '44', '%', 'of', 'respondents', 'in', 'each', 'country', 'said', 'the', 'world', 'economy', 'was', 'getting', 'worse', 'compared', 'to', '34', '%', 'who', 'said', 'it', 'was', 'improving', '.', 'similarly', '48', '%', 'were', 'pessimistic', 'about', 'their', 'national', 'economy', 'while', '41', '%', 'were', 'optimistic', '.', 'and', '47', '%', 'saw', 'their', 'family', 's', 'economic', 'conditions', 'improving', 'as', 'against', '36', '%', 'who', 'said', 'they', 'were', 'getting', 'worse', '.', 'the', 'poll', 'of', '22', '953', 'people', 'was', 'conducted', 'by', 'the', 'international', 'polling', 'firm', 'globescan', 'together', 'with', 'the', 'program', 'on', 'international', 'policy', 'attitudes', '(', 'pipa', ')', 'at', 'the', 'university', 'of', 'maryland', '.', 'while', 'the', 'world', 'economy', 'has', 'picked', 'up', 'from', 'difficult', 'times', 'just', 'a', 'few', 'years', 'ago', 'people', 'seem', 'to', 'not', 'have', 'fully', 'absorbed', 'this', 'development', 'though', 'they', 'are', 'personally', 'experiencing', 'its', 'effects', 'said', 'pipa', 'director', 'steven', 'kull', '.', 'people', 'around', 'the', 'world', 'are', 'saying', ':', 'i', 'm', 'ok', 'but', 'the', 'world', 'isn', 't', '.', 'there', 'may', 'be', 'a', 'perception', 'that', 'war', 'terrorism', 'and', 'religious', 'and', 'political', 'divisions', 'are', 'making', 'the', 'world', 'a', 'worse', 'place', 'even', 'though', 'that', 'has', 'not', 'so', 'far', 'been', 'reflected', 'in', 'global', 'economic', 'performance', 'says', 'the', 'bbc', 's', 'elizabeth', 'blunt', '.', 'the', 'countries', 'where', 'people', 'were', 'most', 'optimistic', 'both', 'for', 'the', 'world', 'and', 'for', 'their', 'own', 'families', 'were', 'two', 'fast-growing', 'developing', 'economies', 'china', 'and', 'india', 'followed', 'by', 'indonesia', '.', 'china', 'has', 'seen', 'two', 'decades', 'of', 'blistering', 'economic', 'growth', 'which', 'has', 'led', 'to', 'wealth', 'creation', 'on', 'a', 'huge', 'scale', 'says', 'the', 'bbc', 's', 'louisa', 'lim', 'in', 'beijing', '.', 'but', 'the', 'results', 'also', 'may', 'reflect', 'the', 'untrammelled', 'confidence', 'of', 'people', 'who', 'are', 'subject', 'to', 'endless', 'government', 'propaganda', 'about', 'their', 'country', 's', 'rosy', 'economic', 'future', 'our', 'correspondent', 'says', '.', 'south', 'korea', 'was', 'the', 'most', 'pessimistic', 'while', 'respondents', 'in', 'italy', 'and', 'mexico', 'were', 'also', 'quite', 'gloomy', '.', 'the', 'bbc', 's', 'david', 'willey', 'in', 'rome', 'says', 'one', 'reason', 'for', 'that', 'result', 'is', 'the', 'changeover', 'from', 'the', 'lira', 'to', 'the', 'euro', 'in', '2001', 'which', 'is', 'widely', 'viewed', 'as', 'the', 'biggest', 'reason', 'why', 'their', 'wages', 'and', 'salaries', 'are', 'worth', 'less', 'than', 'they', 'used', 'to', 'be', '.', 'the', 'philippines', 'was', 'among', 'the', 'most', 'upbeat', 'countries', 'on', 'prospects', 'for', 'respondents', 'families', 'but', 'one', 'of', 'the', 'most', 'pessimistic', 'about', 'the', 'world', 'economy', '.', 'pipa', 'conducted', 'the', 'poll', 'from', '15', 'november', '2004', 'to', '3', 'january', '2005', 'across', '22', 'countries', 'in', 'face-to-face', 'or', 'telephone', 'interviews', '.', 'the', 'interviews', 'took', 'place', 'between', '15', 'november', '2004', 'and', '5', 'january', '2005.', 'the', 'margin', 'of', 'error', 'is', 'between', '2.5', 'and', '4', 'points', 'depending', 'on', 'the', 'country', '.', 'in', 'eight', 'of', 'the', 'countries', 'the', 'sample', 'was', 'limited', 'to', 'major', 'metropolitan', 'areas', '.']\n",
            "Number of tokens in a sentence: 544\n",
            "['lifestyle', 'governs', 'mobile', 'choice', 'faster', 'better', 'or', 'funkier', 'hardware', 'alone', 'is', 'not', 'going', 'to', 'help', 'phone', 'firms', 'sell', 'more', 'handsets', 'research', 'suggests', '.', 'instead', 'phone', 'firms', 'keen', 'to', 'get', 'more', 'out', 'of', 'their', 'customers', 'should', 'not', 'just', 'be', 'pushing', 'the', 'technology', 'for', 'its', 'own', 'sake', '.', 'consumers', 'are', 'far', 'more', 'interested', 'in', 'how', 'handsets', 'fit', 'in', 'with', 'their', 'lifestyle', 'than', 'they', 'are', 'in', 'screen', 'size', 'onboard', 'memory', 'or', 'the', 'chip', 'inside', 'shows', 'an', 'in-depth', 'study', 'by', 'handset', 'maker', 'ericsson', '.', 'historically', 'in', 'the', 'industry', 'there', 'has', 'been', 'too', 'much', 'focus', 'on', 'using', 'technology', 'said', 'dr', 'michael', 'bjorn', 'senior', 'advisor', 'on', 'mobile', 'media', 'at', 'ericsson', 's', 'consumer', 'and', 'enterprise', 'lab', '.', 'we', 'have', 'to', 'stop', 'saying', 'that', 'these', 'technologies', 'will', 'change', 'their', 'lives', 'he', 'said', '.', 'we', 'should', 'try', 'to', 'speak', 'to', 'consumers', 'in', 'their', 'own', 'language', 'and', 'help', 'them', 'see', 'how', 'it', 'fits', 'in', 'with', 'what', 'they', 'are', 'doing', 'he', 'told', 'the', 'bbc', 'news', 'website', '.', 'for', 'the', 'study', 'ericsson', 'interviewed', '14', '000', 'mobile', 'phone', 'owners', 'on', 'the', 'ways', 'they', 'use', 'their', 'phone', '.', 'people', 's', 'habits', 'remain', 'the', 'same', 'said', 'dr', 'bjorn', '.', 'they', 'just', 'move', 'the', 'activity', 'into', 'the', 'mobile', 'phone', 'as', 'it', 's', 'a', 'much', 'more', 'convenient', 'way', 'to', 'do', 'it', '.', 'one', 'good', 'example', 'of', 'this', 'was', 'diary-writing', 'among', 'younger', 'people', 'he', 'said', '.', 'while', 'diaries', 'have', 'always', 'been', 'popular', 'a', 'mobile', 'phone', '--', 'especially', 'one', 'equipped', 'with', 'a', 'camera', '--', 'helps', 'them', 'keep', 'it', 'in', 'a', 'different', 'form', '.', 'youngsters', 'use', 'of', 'text', 'messages', 'also', 'reflects', 'their', 'desire', 'to', 'chat', 'and', 'keep', 'in', 'contact', 'with', 'friends', 'and', 'again', 'just', 'lets', 'them', 'do', 'it', 'in', 'a', 'slightly', 'changed', 'way', '.', 'dr', 'bjorn', 'said', 'that', 'although', 'consumers', 'do', 'what', 'they', 'always', 'did', 'but', 'use', 'a', 'phone', 'to', 'do', 'it', 'the', 'sheer', 'variety', 'of', 'what', 'the', 'new', 'handset', 'technologies', 'make', 'possible', 'does', 'gradually', 'drive', 'new', 'habits', 'and', 'lifestyles', '.', 'ericsson', 's', 'research', 'has', 'shown', 'that', 'consumers', 'divide', 'into', 'different', 'tribes', 'that', 'use', 'phones', 'in', 'different', 'ways', '.', 'dr', 'bjorn', 'said', 'groups', 'dubbed', 'pioneers', 'and', 'materialists', 'were', 'most', 'interested', 'in', 'trying', 'new', 'things', 'and', 'were', 'behind', 'the', 'start', 'of', 'many', 'trends', 'in', 'phone', 'use', '.', 'for', 'instance', 'he', 'said', 'older', 'people', 'are', 'using', 'sms', 'much', 'more', 'than', 'they', 'did', 'five', 'years', 'ago', '.', 'this', 'was', 'because', 'younger', 'users', 'often', 'the', 'children', 'of', 'ageing', 'mobile', 'owners', 'encouraged', 'older', 'people', 'to', 'try', 'it', 'so', 'they', 'could', 'keep', 'in', 'touch', '.', 'another', 'factor', 'governing', 'the', 'speed', 'of', 'change', 'in', 'mobile', 'phone', 'use', 'was', 'the', 'simple', 'speed', 'with', 'which', 'new', 'devices', 'are', 'bought', 'by', 'pioneers', 'and', 'materialists', '.', 'only', 'when', 'about', '25', '%', 'of', 'people', 'have', 'handsets', 'with', 'new', 'innovations', 'on', 'them', 'such', 'as', 'cameras', 'can', 'consumers', 'stop', 'worrying', 'that', 'if', 'they', 'send', 'a', 'picture', 'message', 'the', 'person', 'at', 'the', 'other', 'end', 'will', 'be', 'able', 'to', 'see', 'it', '.', 'once', 'this', 'significant', 'number', 'of', 'users', 'is', 'passed', 'use', 'of', 'new', 'innovations', 'tends', 'to', 'take', 'off', '.', 'dr', 'bjorn', 'said', 'that', 'early', 'reports', 'of', 'camera', 'phone', 'usage', 'in', 'japan', 'seemed', 'to', 'imply', 'that', 'the', 'innovation', 'was', 'going', 'to', 'be', 'a', 'flop', '.', 'however', 'he', 'said', 'now', '45', '%', 'of', 'the', 'japanese', 'people', 'ericsson', 'questioned', 'use', 'their', 'camera', 'phone', 'at', 'least', 'once', 'a', 'month', '.', 'in', '2003', 'the', 'figure', 'was', '29', '%', '.', 'similarly', 'across', 'europe', 'the', 'numbers', 'of', 'people', 'taking', 'snaps', 'with', 'cameras', 'is', 'starting', 'to', 'rise', '.', 'in', '2003', 'only', '4', '%', 'of', 'the', 'people', 'in', 'the', 'uk', 'took', 'a', 'phonecam', 'snap', 'at', 'least', 'once', 'a', 'month', '.', 'now', 'the', 'figure', 'is', '14', '%', '.', 'similar', 'rises', 'have', 'been', 'seen', 'in', 'many', 'other', 'european', 'nations', '.', 'dr', 'bjorn', 'said', 'that', 'people', 'also', 'used', 'their', 'camera', 'phones', 'in', 'very', 'different', 'ways', 'to', 'film', 'and', 'even', 'digital', 'cameras', '.', 'usage', 'patterns', 'for', 'digital', 'cameras', 'are', 'almost', 'exactly', 'replacing', 'usage', 'patterns', 'for', 'analogue', 'cameras', 'he', 'said', '.', 'digital', 'cameras', 'tend', 'to', 'be', 'used', 'on', 'significant', 'events', 'such', 'as', 'weddings', 'holidays', 'and', 'birthdays', '.', 'by', 'contrast', 'he', 'said', 'camera', 'phones', 'were', 'being', 'used', 'much', 'more', 'to', 'capture', 'a', 'moment', 'and', 'were', 'being', 'woven', 'into', 'everyday', 'life', '.']\n",
            "Number of tokens in a sentence: 670\n",
            "['enron', 'bosses', 'in', '$', '168m', 'payout', 'eighteen', 'former', 'enron', 'directors', 'have', 'agreed', 'a', '$', '168m', '(', '£89m', ')', 'settlement', 'deal', 'in', 'a', 'shareholder', 'lawsuit', 'over', 'the', 'collapse', 'of', 'the', 'energy', 'firm', '.', 'leading', 'plaintiff', 'the', 'university', 'of', 'california', 'announced', 'the', 'news', 'adding', 'that', '10', 'of', 'the', 'former', 'directors', 'will', 'pay', '$', '13m', 'from', 'their', 'own', 'pockets', '.', 'the', 'settlement', 'will', 'be', 'put', 'to', 'the', 'courts', 'for', 'approval', 'next', 'week', '.', 'enron', 'went', 'bankrupt', 'in', '2001', 'after', 'it', 'emerged', 'it', 'had', 'hidden', 'hundreds', 'of', 'millions', 'of', 'dollars', 'in', 'debt', '.', 'before', 'its', 'collapse', 'the', 'firm', 'was', 'the', 'seventh', 'biggest', 'public', 'us', 'company', 'by', 'revenue', '.', 'its', 'demise', 'sent', 'shockwaves', 'through', 'financial', 'markets', 'and', 'dented', 'investor', 'confidence', 'in', 'corporate', 'america', '.', 'the', 'settlement', 'is', 'very', 'significant', 'in', 'holding', 'these', 'outside', 'directors', 'at', 'least', 'partially', 'personally', 'responsible', 'william', 'lerach', 'the', 'lawyer', 'leading', 'the', 'class', 'action', 'suit', 'against', 'enron', 'said', '.', 'hopefully', 'this', 'will', 'help', 'send', 'a', 'message', 'to', 'corporate', 'boardrooms', 'of', 'the', 'importance', 'of', 'directors', 'performing', 'their', 'legal', 'duties', 'he', 'added', '.', 'under', 'the', 'terms', 'of', 'the', '$', '168m', 'settlement', '-', '$', '155m', 'of', 'which', 'will', 'be', 'covered', 'by', 'insurance', '-', 'none', 'of', 'the', '18', 'former', 'directors', 'will', 'admit', 'any', 'wrongdoing', '.', 'the', 'deal', 'is', 'the', 'fourth', 'major', 'settlement', 'negotiated', 'by', 'lawyers', 'who', 'filed', 'a', 'class', 'action', 'on', 'behalf', 'of', 'enron', 's', 'shareholders', 'almost', 'three', 'years', 'ago', '.', 'so', 'far', 'including', 'the', 'latest', 'deal', 'just', 'under', '$', '500m', '(', '£378.8m', ')', 'has', 'been', 'retrieved', 'for', 'investors', '.', 'however', 'the', 'latest', 'deal', 'does', 'not', 'include', 'former', 'enron', 'chief', 'executives', 'ken', 'lay', 'and', 'jeff', 'skilling', '.', 'both', 'men', 'are', 'facing', 'criminal', 'charges', 'for', 'their', 'alleged', 'misconduct', 'in', 'the', 'run', 'up', 'to', 'the', 'firm', 's', 'collapse', '.', 'neither', 'does', 'it', 'cover', 'andrew', 'fastow', 'who', 'has', 'pleaded', 'guilty', 'to', 'taking', 'part', 'in', 'an', 'illegal', 'conspiracy', 'while', 'he', 'was', 'chief', 'financial', 'officer', 'at', 'the', 'group', '.', 'enron', 's', 'shareholders', 'are', 'still', 'seeking', 'damages', 'from', 'a', 'long', 'list', 'of', 'other', 'big', 'name', 'defendants', 'including', 'the', 'financial', 'institutions', 'jp', 'morgan', 'chase', 'citigroup', 'merrill', 'lynch', 'and', 'credit', 'suisse', 'first', 'boston', '.', 'the', 'university', 'of', 'california', 'said', 'the', 'trial', 'in', 'the', 'case', 'is', 'scheduled', 'to', 'begin', 'in', 'october', '2006.', 'it', 'joined', 'the', 'lawsuit', 'in', 'december', '2001alleging', 'massive', 'insider', 'trading', 'and', 'fraud', 'claiming', 'it', 'had', 'lost', '$', '145m', 'on', 'its', 'investments', 'in', 'the', 'company', '.']\n",
            "Number of tokens in a sentence: 382\n",
            "['howard', 'truanted', 'to', 'play', 'snooker', 'conservative', 'leader', 'michael', 'howard', 'has', 'admitted', 'he', 'used', 'to', 'play', 'truant', 'to', 'spend', 'time', 'with', 'his', 'school', 'friends', 'at', 'a', 'snooker', 'hall', '.', 'mr', 'howard', 'said', 'his', 'time', 'at', 'jack', 's', 'snooker', 'hall', 'in', 'llanelli', 'in', 'the', '1950s', 'had', 'not', 'done', 'him', 'any', 'lasting', 'damage', '.', 'but', 'he', 'told', 'the', 'times', 'educational', 'supplement', 'that', 'truancy', 'was', 'very', 'bad', 'and', 'said', 'firm', 'action', 'was', 'needed', '.', 'mr', 'howard', 'also', 'called', 'for', 'a', 'return', 'to', 'o-levels', 'and', 'more', 'classroom', 'discipline', '.', 'mr', 'howard', 'eventually', 'left', 'llanelli', 'grammar', 'school', '-', 'and', 'the', 'snooker', 'hall', '-', 'to', 'go', 'to', 'cambridge', 'university', '.', 'he', 'said', ':', 'i', 'don', 't', 'think', 'it', 's', 'done', 'me', 'any', 'lasting', 'damage', '.', 'nor', 'has', 'it', 'made', 'me', 'a', 'snooker', 'world', 'champion', '.', 'there', 'might', 'have', 'been', 'some', 'occasions', 'when', 'we', 'left', 'early', 'of', 'an', 'afternoon', '.', 'i', 'm', 'just', 'being', 'honest', '.', 'i', 'think', 'truancy', 'is', 'a', 'very', 'bad', 'thing', 'and', 'that', 'firm', 'action', 'should', 'be', 'taken', 'to', 'deal', 'with', 'it', '.', 'another', 'player', 'who', 'has', 'failed', 'to', 'win', 'snooker', 's', 'world', 'championship', '-', 'jimmy', 'the', 'whirlwind', 'white', '-', 'has', 'previously', 'admitted', 'missing', 'lessons', 'instead', 'spending', 'his', 'days', 'in', 'smoky', 'halls', '.', 'tony', 'meo', '[', 'another', 'player', ']', 'and', 'me', 'used', 'to', 'spend', 'all', 'of', 'our', 'spare', 'time', 'there', 'mr', 'white', 'said', 'we', 'loved', 'the', 'game', 'and', 'the', 'atmosphere', '.', 'school', 'went', 'out', 'of', 'the', 'window', '.', 'i', 'went', 'for', 'a', 'while', 'and', 'then', 'started', 'taking', 'time', 'off', '.', 'mr', 'howard', 's', 'fellow', 'welshman', 'ray', 'reardon', '-', 'known', 'by', 'his', 'fellow', 'professionals', 'as', 'dracula', '-', 'won', 'the', 'snooker', 'world', 'championship', 'six', 'times', 'having', 'left', 'school', 'at', '14', 'to', 'work', 'as', 'a', 'miner', '.', 'and', 'terry', 'griffiths', 'like', 'mr', 'howard', 'from', 'llanelli', 'won', 'the', 'tournament', 'in', '1979.', 'it', 'is', 'not', 'known', 'whether', 'the', 'two', 'of', 'them', 'ever', 'clashed', 'cues', 'at', 'jack', 's', '.']\n",
            "Number of tokens in a sentence: 308\n",
            "['wales', 'silent', 'on', 'grand', 'slam', 'talk', 'rhys', 'williams', 'says', 'wales', 'are', 'still', 'not', 'thinking', 'of', 'winning', 'the', 'grand', 'slam', 'despite', 'a', 'third', 'six', 'nations', 'win', '.', 'that', 's', 'the', 'last', 'thing', 'on', 'our', 'minds', 'at', 'the', 'moment', 'said', 'williams', 'a', 'second-', 'half', 'replacement', 'in', 'saturday', 's', '24-18', 'win', 'over', 'france', 'in', 'paris', '.', 'we', 'all', 'realise', 'how', 'difficult', 'a', 'task', 'it', 'is', 'to', 'go', 'up', 'to', 'scotland', 'and', 'beat', 'them', '.', 'we', 've', 'come', 'unstuck', 'there', 'a', 'couple', 'of', 'times', 'recently', 'so', 'our', 'focus', 'is', 'on', 'that', 'game', 'and', 'we', 'll', 'worry', 'about', 'ireland', 'hopefully', 'after', 'we', 've', 'beaten', 'scotland', '.', 'with', 'captain', 'gareth', 'thomas', 'ruled', 'out', 'of', 'the', 'rest', 'of', 'the', 'campaign', 'with', 'a', 'broken', 'thumb', 'williams', 'is', 'vying', 'for', 'his', 'first', 'start', 'in', 'the', 'championship', 'so', 'far', '.', 'kevin', 'morgan', 'is', 'probably', 'favourite', 'to', 'replace', 'thomas', 'at', 'full-back', 'leaving', 'williams', 'and', 'hal', 'luscombe', 'to', 'battle', 'for', 'the', 'right', 'wing', 'berth', '.', 'a', 'hamstring', 'injury', 'denied', 'luscombe', 'the', 'opportunity', 'to', 'make', 'a', 'third', 'successive', 'start', 'but', 'the', 'dragons', 'winger', 'is', 'expected', 'to', 'be', 'fit', 'for', 'the', 'trip', 'to', 'murrayfield', 'on', '13', 'march', '.', 'hooker', 'robin', 'mcbryde', 'is', 'doubtful', 'after', 'picking', 'up', 'a', 'knee', 'injury', 'in', 'paris', 'but', 'centre', 'sonny', 'parker', 'and', 'flanker', 'colin', 'charvis', 'are', 'set', 'to', 'recover', 'from', 'injury', 'to', 'be', 'in', 'contention', 'for', 'selection', '.', 'said', 'wales', 'assistant', 'coach', 'scott', 'johnson', ':', 'they', 've', 'worked', 'through', 'the', 'weekend', 'and', 'the', 'reports', 'are', 'a', 'bit', 'more', 'positive', '.', 'so', 'we', 're', 'getting', 'a', 'couple', 'back', 'and', 'that', 'adds', 'to', 'the', 'depth', 'of', 'the', 'squad', '.', 'scotland', 'secured', 'their', 'first', 'win', 'of', 'the', 'campaign', 'on', 'saturday', 'by', 'grinding', 'out', 'an', '18-10', 'win', 'over', 'italy', '.', 'matt', 'williams', 'side', 'has', 'shown', 'little', 'in', 'attack', 'but', 'johnson', 'insisted', 'the', 'scots', 'will', 'be', 'difficult', 'opposition', 'to', 'break', 'down', '.', 'italy', 'are', 'really', 'brave', 'opposition', 'and', 'sometimes', 'it', 's', 'very', 'hard', 'to', 'win', 'he', 'said', '.', 'so', 'an', 'ugly', 'win', 'can', 'be', 'just', 'as', 'effective', 'as', 'a', '30', 'or', '40', 'point', 'victory', '.', 'scotland', 'are', 'a', 'hard', 'side', 'and', 'very', 'underrated', 'so', 'we', 're', 'not', 'taking', 'anything', 'for', 'granted', '.', 'we', 're', 'not', 'basking', 'in', 'the', 'glory', 'of', 'winning', 'our', 'first', 'three', 'games', '.', 'we', 've', 'got', 'to', 'be', 'diligent', 'in', 'our', 'preparation', '.', 'that', 's', 'my', 'job', 'and', 'we', 've', 'got', 'to', 'make', 'sure', 'we', 're', 'focused', '.']\n",
            "Number of tokens in a sentence: 386\n",
            "['french', 'honour', 'for', 'director', 'parker', 'british', 'film', 'director', 'sir', 'alan', 'parker', 'has', 'been', 'made', 'an', 'officer', 'in', 'the', 'order', 'of', 'arts', 'and', 'letters', 'one', 'of', 'france', 's', 'highest', 'cultural', 'honours', '.', 'sir', 'alan', 'received', 'his', 'decoration', 'in', 'paris', 'on', 'wednesday', 'from', 'french', 'culture', 'minister', 'renaud', 'donnedieu', 'de', 'vabres', '.', 'you', 'have', 'explored', 'the', 'possibilities', 'of', 'film', 'with', 'an', 'immense', 'talent', 'mr', 'de', 'vabres', 'said', 'as', 'he', 'presented', 'the', 'award', '.', 'parker', 'praised', 'french', 'films', 'saying', ':', 'hollywood', 'which', 'created', 'modern', 'cinema', 'uses', 'it', 'only', 'as', 'a', 'commodity', '.', 'he', 'told', 'the', 'minister', ':', 'i', 'am', 'honoured', 'to', 'be', 'thus', 'distinguished', 'by', 'france', 'the', 'flag', 'carrier', 'of', 'cinema', 'throughout', 'the', 'world', '.', 'sir', 'alan', 's', 'films', 'include', 'oscar-winning', 'fame', 'plus', 'midnight', 'express', 'and', 'the', 'commitments', '.', 'a', 'founding', 'member', 'of', 'the', 'director', 's', 'guild', 'of', 'great', 'britain', 'he', 'is', 'a', 'former', 'chairman', 'of', 'the', 'uk', 'film', 'council', 'and', 'on', 'the', 'board', 'of', 'the', 'british', 'film', 'institute', '.', 'through', 'your', 'work', 'and', 'your', 'campaigns', 'you', 'have', 'shown', 'us', 'how', 'the', 'artist', 'occupies', 'an', 'essential', 'place', 'in', 'our', 'contemporary', 'society', 'mr', 'de', 'vabres', 'said', '.', 'through', 'your', 'dreams', 'which', 'you', 'show', 'us', 'through', 'the', 'links', 'that', 'you', 'weave', 'you', 'question', 'the', 'world', 'through', 'the', 'mirror', 'of', 'your', 'work', '.', 'he', 'also', 'cited', 'the', 'director', 's', '2003', 'film', 'the', 'life', 'of', 'david', 'gale', 'in', 'which', 'kevin', 'spacey', 'played', 'a', 'man', 'on', 'death', 'row', 'as', 'proof', 'of', 'his', 'veritable', 'artistic', 'commitment', 'against', 'the', 'death', 'sentence', '.']\n",
            "Number of tokens in a sentence: 241\n",
            "['car', 'giant', 'hit', 'by', 'mercedes', 'slump', 'a', 'slump', 'in', 'profitability', 'at', 'luxury', 'car', 'maker', 'mercedes', 'has', 'prompted', 'a', 'big', 'drop', 'in', 'profits', 'at', 'parent', 'daimlerchrysler', '.', 'the', 'german-us', 'carmaker', 'saw', 'fourth', 'quarter', 'operating', 'profits', 'fall', 'to', '785m', 'euros', '(', '$', '1bn', ')', 'from', '2.4bn', 'euros', 'in', '2003.', 'mercedes-benz', 's', 'woes', '-', 'its', 'profits', 'slid', 'to', 'just', '20m', 'euros', '-', 'obscured', 'a', 'strong', 'performance', 'from', 'the', 'chrysler', 'group', 'whose', 'returns', 'met', 'market', 'expectations', '.', 'mercedes', 'faces', 'fierce', 'competition', 'in', 'the', 'luxury', 'car', 'sector', 'from', 'bmw', 'and', 'but', 'hopes', 'to', 'revive', 'its', 'fortunes', 'by', '2006.', 'mercedes', 'profits', 'over', 'the', 'period', 'compared', 'unfavourably', 'with', '2003', 's', '784m', 'euro', 'figure', 'and', 'were', 'well', 'below', 'analyst', 'expectations', 'of', '374m', 'euros', '.', 'for', 'the', 'year', 'as', 'a', 'whole', 'its', 'operating', 'profits', 'fell', '46', '%', 'to', '1.6bn', 'euros', '.', 'sales', 'of', 'mercedes', 'brands', 'fell', '2', '%', 'as', 'demand', 'cooled', 'while', 'revenues', 'were', 'affected', 'by', 'the', 'weakness', 'of', 'the', 'us', 'dollar', '.', 'the', 'carmaker', 'blamed', 'the', 'fall', 'in', 'profits', 'on', 'high', 'launch', 'costs', 'for', 'new', 'models', 'and', 'losses', 'from', 'its', 'mercedes', 'smart', 'mini-car', 'range', '.', 'mercedes', 'is', 'hoping', 'to', 'increase', 'productivity', 'by', '3bn', 'euros', 'having', 'negotiated', '500m', 'euros', 'in', 'annual', 'savings', 'with', 'german', 'workers', 'last', 'year', '.', 'the', 'firm', 'said', 'it', 'was', 'determined', 'to', 'retain', 'mercedes', 'position', 'as', 'the', 'world', 's', 'most', 'successful', 'luxury', 'brand', '.', 'however', 'daimlerchrysler', 's', 'shares', 'fell', '1.5', '%', 'on', 'the', 'news', '.', 'while', 'all', 'these', 'divisions', 'are', 'doing', 'well', 'the', 'big', 'worries', 'continue', 'to', 'surround', 'mercedes-benz', 'michael', 'rabb', 'an', 'analyst', 'with', 'bank', 'sal', 'oppenheim', 'told', 'reuters', '.', 'in', 'contrast', 'chrysler', 'enjoyed', 'a', '5', '%', 'annual', 'increase', 'in', 'unit', 'sales', 'while', 'revenues', '-', 'calculated', 'in', 'us', 'dollars', '-', 'rose', '10', '%', '.', 'the', 'us', 'division', '-', 'whose', 'marques', 'include', 'dodge', 'and', 'jeep', '-', 'transformed', 'a', 'full', 'year', 'operating', 'loss', 'of', '506m', 'euros', 'in', '2003', 'into', 'a', '1.4bn', 'euros', 'profit', 'last', 'year', '.', 'overall', 'daimlerchrysler', 'saw', 'worldwide', 'vehicle', 'sales', 'rise', '8', '%', 'to', '4.7', 'million', 'in', '2004', 'while', 'total', 'revenues', 'added', '4', '%', 'to', '142bn', 'euros', '.', 'chrysler', 's', 'strong', 'performance', 'helped', 'the', 'world', 's', 'fifth', 'largest', 'carmaker', 'boost', 'net', 'income', 'by', '400m', 'euros', 'to', '2.5bn', 'euros', '.', 'the', 'year', '2004', 'shows', 'that', 'our', 'strategy', 'works', 'well', '-', 'even', 'in', 'such', 'a', 'challenging', 'competitive', 'environment', 'said', 'jurgen', 'schrempp', 'daimlerchrysler', 's', 'chairman', '.', 'daimlerchrysler', 'took', 'a', '475m', 'euro', 'hit', 'in', 'costs', 'stemming', 'from', 'a', 'defects', 'scandal', 'at', 'its', 'joint', 'venture', 'japanese', 'subsidiary', 'fuso', '.', 'daimlerchrysler', 'last', 'week', 'agreed', 'a', 'compensation', 'package', 'with', 'partner', 'mitsubishi', 'motors', 'which', 'will', 'see', 'it', 'buy', 'out', 'its', 'stake', 'in', 'fuso', '.', 'looking', 'forward', 'daimerchrysler', 's', 'profits', 'are', 'expected', 'to', 'be', 'slightly', 'higher', 'in', '2005.', 'however', 'it', 'is', 'expecting', 'significant', 'improvements', 'in', 'profitability', 'in', '2006', 'as', 'a', 'result', 'of', 'a', 'major', 'investment', 'in', 'the', 'mercedes', 'product', 'range', '.']\n",
            "Number of tokens in a sentence: 456\n",
            "['fockers', 'fuel', 'festive', 'film', 'chart', 'comedy', 'meet', 'the', 'fockers', 'topped', 'the', 'festive', 'box', 'office', 'in', 'north', 'america', 'setting', 'a', 'new', 'record', 'for', 'christmas', 'day', '.', 'the', 'sequel', 'took', '$', '44.7m', '(', '£23.2m', ')', 'between', '24', 'and', '26', 'december', 'according', 'to', 'studio', 'estimates', '.', 'it', 'took', '$', '19.1m', '(', '£9.9m', ')', 'on', 'christmas', 'day', 'alone', 'the', 'highest', 'takings', 'on', 'that', 'day', 'in', 'box', 'office', 'history', '.', 'meet', 'the', 'fockers', 'is', 'the', 'sequel', 'to', 'ben', 'stiller', 'comedy', 'meet', 'the', 'parents', 'also', 'starring', 'robert', 'de', 'niro', 'blythe', 'danner', 'dustin', 'hoffman', 'and', 'barbra', 'streisand', '.', 'despite', 'the', 'success', 'of', 'meet', 'the', 'fockers', 'takings', 'were', 'down', '26.5', '%', 'on', '2003', 's', 'figures', '-', 'which', 'was', 'blamed', 'on', 'christmas', 'falling', 'over', 'a', 'weekend', 'this', 'year', '.', 'when', 'christmas', 'falls', 'on', 'a', 'weekend', 'it', 's', 'bad', 'for', 'business', 'said', 'paul', 'dergarabedian', 'president', 'of', 'exhibitor', 'relations', 'which', 'compiles', 'box', 'office', 'statistics', '.', 'the', 'weekend', 's', 'top', '12', 'films', 'took', 'an', 'estimated', '$', '121.9m', '(', '£63.3m', ')', 'compared', 'with', '$', '165.8m', '(', '£86.1m', ')', 'last', 'year', 'when', 'the', 'third', 'lord', 'of', 'the', 'rings', 'film', 'dominated', 'the', 'box', 'office', '.', 'meet', 'the', 'fockers', 'knocked', 'last', 'week', 's', 'top', 'film', 'lemony', 'snicket', 's', 'a', 'series', 'of', 'unfortunate', 'events', 'down', 'to', 'third', 'place', 'with', '$', '12.5m', '(', '£6.5m', ')', '.', 'comedy', 'fat', 'albert', '-', 'co-written', 'by', 'bill', 'cosby', '-', 'entered', 'the', 'chart', 'in', 'second', 'place', 'after', 'opening', 'on', 'christmas', 'day', 'taking', '$', '12.7m', '(', '£6.6m', ')', '.', 'the', 'aviator', 'starring', 'leonardo', 'dicaprio', 'as', 'howard', 'hughes', 'took', '$', '9.4m', 'after', 'expanding', 'from', '40', 'to', '1', '796', 'cinemas', 'on', 'christmas', 'day', '.']\n",
            "Number of tokens in a sentence: 258\n"
          ]
        }
      ],
      "source": [
        "# Word Tokenizer\n",
        "\n",
        "for text in sample_data:\n",
        "  word = word_tokenize(text)\n",
        "  print(word)\n",
        "  print(\"Number of tokens in a sentence:\",len(word))"
      ]
    },
    {
      "cell_type": "code",
      "execution_count": 58,
      "id": "T5Gu-Oi4QWO6",
      "metadata": {
        "colab": {
          "base_uri": "https://localhost:8080/"
        },
        "id": "T5Gu-Oi4QWO6",
        "outputId": "02165139-47d6-4da9-8fc9-2b00f3ac35d2"
      },
      "outputs": [
        {
          "output_type": "stream",
          "name": "stdout",
          "text": [
            "['worldcom ex-boss launches defence lawyers defending former worldcom chief bernie ebbers against a battery of fraud charges have called a company whistleblower as their first witness.', 'cynthia cooper  worldcom s ex-head of internal accounting  alerted directors to irregular accounting practices at the us telecoms giant in 2002. her warnings led to the collapse of the firm following the discovery of an $11bn (£5.7bn) accounting fraud.', 'mr ebbers has pleaded not guilty to charges of fraud and conspiracy.', 'prosecution lawyers have argued that mr ebbers orchestrated a series of accounting tricks at worldcom  ordering employees to hide expenses and inflate revenues to meet wall street earnings estimates.', 'but ms cooper  who now runs her own consulting business  told a jury in new york on wednesday that external auditors arthur andersen had approved worldcom s accounting in early 2001 and 2002. she said andersen had given a  green light  to the procedures and practices used by worldcom.', 'mr ebber s lawyers have said he was unaware of the fraud  arguing that auditors did not alert him to any problems.', 'ms cooper also said that during shareholder meetings mr ebbers often passed over technical questions to the company s finance chief  giving only  brief  answers himself.', 'the prosecution s star witness  former worldcom financial chief scott sullivan  has said that mr ebbers ordered accounting adjustments at the firm  telling him to  hit our books .', 'however  ms cooper said mr sullivan had not mentioned  anything uncomfortable  about worldcom s accounting during a 2001 audit committee meeting.', 'mr ebbers could face a jail sentence of 85 years if convicted of all the charges he is facing.', 'worldcom emerged from bankruptcy protection in 2004  and is now known as mci.', 'last week  mci agreed to a buyout by verizon communications in a deal valued at $6.75bn.']\n",
            "Number of sentence tokens: 12\n",
            "['german business confidence slides german business confidence fell in february knocking hopes of a speedy recovery in europe s largest economy.', 'munich-based research institute ifo said that its confidence index fell to 95.5 in february from 97.5 in january  its first decline in three months.', 'the study found that the outlook in both the manufacturing and retail sectors had worsened.', 'observers had been hoping that a more confident business sector would signal that economic activity was picking up.', 'we re surprised that the ifo index has taken such a knock   said dz bank economist bernd weidensteiner.', 'the main reason is probably that the domestic economy is still weak  particularly in the retail trade.', 'economy and labour minister wolfgang clement called the dip in february s ifo confidence figure  a very mild decline .', 'he said that despite the retreat  the index remained at a relatively high level and that he expected  a modest economic upswing  to continue.', 'germany s economy grew 1.6% last year after shrinking in 2003. however  the economy contracted by 0.2% during the last three months of 2004  mainly due to the reluctance of consumers to spend.', 'latest indications are that growth is still proving elusive and ifo president hans-werner sinn said any improvement in german domestic demand was sluggish.', 'exports had kept things going during the first half of 2004  but demand for exports was then hit as the value of the euro hit record levels making german products less competitive overseas.', 'on top of that  the unemployment rate has been stuck at close to 10% and manufacturing firms  including daimlerchrysler  siemens and volkswagen  have been negotiating with unions over cost cutting measures.', 'analysts said that the ifo figures and germany s continuing problems may delay an interest rate rise by the european central bank.', 'eurozone interest rates are at 2%  but comments from senior officials have recently focused on the threat of inflation  prompting fears that interest rates may rise.']\n",
            "Number of sentence tokens: 14\n",
            "['bbc poll indicates economic gloom citizens in a majority of nations surveyed in a bbc world service poll believe the world economy is worsening.', 'most respondents also said their national economy was getting worse.', 'but when asked about their own family s financial outlook  a majority in 14 countries said they were positive about the future.', 'almost 23 000 people in 22 countries were questioned for the poll  which was mostly conducted before the asian tsunami disaster.', 'the poll found that a majority or plurality of people in 13 countries believed the economy was going downhill  compared with respondents in nine countries who believed it was improving.', 'those surveyed in three countries were split.', 'in percentage terms  an average of 44% of respondents in each country said the world economy was getting worse  compared to 34% who said it was improving.', 'similarly  48% were pessimistic about their national economy  while 41% were optimistic.', 'and 47% saw their family s economic conditions improving  as against 36% who said they were getting worse.', 'the poll of 22 953 people was conducted by the international polling firm globescan  together with the program on international policy attitudes (pipa) at the university of maryland.', 'while the world economy has picked up from difficult times just a few years ago  people seem to not have fully absorbed this development  though they are personally experiencing its effects   said pipa director steven kull.', 'people around the world are saying:  i m ok  but the world isn t .', 'there may be a perception that war  terrorism and religious and political divisions are making the world a worse place  even though that has not so far been reflected in global economic performance  says the bbc s elizabeth blunt.', 'the countries where people were most optimistic  both for the world and for their own families  were two fast-growing developing economies  china and india  followed by indonesia.', 'china has seen two decades of blistering economic growth  which has led to wealth creation on a huge scale  says the bbc s louisa lim in beijing.', 'but the results also may reflect the untrammelled confidence of people who are subject to endless government propaganda about their country s rosy economic future  our correspondent says.', 'south korea was the most pessimistic  while respondents in italy and mexico were also quite gloomy.', 'the bbc s david willey in rome says one reason for that result is the changeover from the lira to the euro in 2001  which is widely viewed as the biggest reason why their wages and salaries are worth less than they used to be.', 'the philippines was among the most upbeat countries on prospects for respondents  families  but one of the most pessimistic about the world economy.', 'pipa conducted the poll from 15 november 2004 to 3 january 2005 across 22 countries in face-to-face or telephone interviews.', 'the interviews took place between 15 november 2004 and 5 january 2005. the margin of error is between 2.5 and 4 points  depending on the country.', 'in eight of the countries  the sample was limited to major metropolitan areas.']\n",
            "Number of sentence tokens: 22\n",
            "['lifestyle  governs mobile choice  faster  better or funkier hardware alone is not going to help phone firms sell more handsets  research suggests.', 'instead  phone firms keen to get more out of their customers should not just be pushing the technology for its own sake.', 'consumers are far more interested in how handsets fit in with their lifestyle than they are in screen size  onboard memory or the chip inside  shows an in-depth study by handset maker ericsson.', 'historically in the industry there has been too much focus on using technology   said dr michael bjorn  senior advisor on mobile media at ericsson s consumer and enterprise lab.', 'we have to stop saying that these technologies will change their lives   he said.', 'we should try to speak to consumers in their own language and help them see how it fits in with what they are doing   he told the bbc news website.', 'for the study  ericsson interviewed 14 000 mobile phone owners on the ways they use their phone.', 'people s habits remain the same   said dr bjorn.', 'they just move the activity into the mobile phone as it s a much more convenient way to do it.', 'one good example of this was diary-writing among younger people  he said.', 'while diaries have always been popular  a mobile phone -- especially one equipped with a camera -- helps them keep it in a different form.', 'youngsters  use of text messages also reflects their desire to chat and keep in contact with friends and again just lets them do it in a slightly changed way.', 'dr bjorn said that although consumers do what they always did but use a phone to do it  the sheer variety of what the new handset technologies make possible does gradually drive new habits and lifestyles.', 'ericsson s research has shown that consumers divide into different  tribes  that use phones in different ways.', 'dr bjorn said groups dubbed  pioneers  and  materialists  were most interested in trying new things and were behind the start of many trends in phone use.', 'for instance   he said   older people are using sms much more than they did five years ago.', 'this was because younger users  often the children of ageing mobile owners  encouraged older people to try it so they could keep in touch.', 'another factor governing the speed of change in mobile phone use was the simple speed with which new devices are bought by pioneers and materialists.', 'only when about 25% of people have handsets with new innovations on them  such as cameras  can consumers stop worrying that if they send a picture message the person at the other end will be able to see it.', 'once this significant number of users is passed  use of new innovations tends to take off.', 'dr bjorn said that early reports of camera phone usage in japan seemed to imply that the innovation was going to be a flop.', 'however  he said  now 45% of the japanese people ericsson questioned use their camera phone at least once a month.', 'in 2003 the figure was 29%.', 'similarly  across europe the numbers of people taking snaps with cameras is starting to rise.', 'in 2003 only 4% of the people in the uk took a phonecam snap at least once a month.', 'now the figure is 14%.', 'similar rises have been seen in many other european nations.', 'dr bjorn said that people also used their camera phones in very different ways to film and even digital cameras.', 'usage patterns for digital cameras are almost exactly replacing usage patterns for analogue cameras   he said.', 'digital cameras tend to be used on significant events such as weddings  holidays and birthdays.', 'by contrast  he said  camera phones were being used much more to capture a moment and were being woven into everyday life.']\n",
            "Number of sentence tokens: 31\n",
            "['enron bosses in $168m payout eighteen former enron directors have agreed a $168m (£89m) settlement deal in a shareholder lawsuit over the collapse of the energy firm.', 'leading plaintiff  the university of california  announced the news  adding that 10 of the former directors will pay $13m from their own pockets.', 'the settlement will be put to the courts for approval next week.', 'enron went bankrupt in 2001 after it emerged it had hidden hundreds of millions of dollars in debt.', 'before its collapse  the firm was the seventh biggest public us company by revenue.', 'its demise sent shockwaves through financial markets and dented investor confidence in corporate america.', 'the settlement is very significant in holding these outside directors at least partially personally responsible   william lerach  the lawyer leading the class action suit against enron  said.', 'hopefully  this will help send a message to corporate boardrooms of the importance of directors performing their legal duties   he added.', 'under the terms of the $168m settlement - $155m of which will be covered by insurance - none of the 18 former directors will admit any wrongdoing.', 'the deal is the fourth major settlement negotiated by lawyers who filed a class action on behalf of enron s shareholders almost three years ago.', 'so far  including the latest deal  just under $500m (£378.8m) has been retrieved for investors.', 'however  the latest deal does not include former enron chief executives ken lay and jeff skilling.', 'both men are facing criminal charges for their alleged misconduct in the run up to the firm s collapse.', 'neither does it cover andrew fastow  who has pleaded guilty to taking part in an illegal conspiracy while he was chief financial officer at the group.', 'enron s shareholders are still seeking damages from a long list of other big name defendants including the financial institutions jp morgan chase  citigroup  merrill lynch and credit suisse first boston.', 'the university of california said the trial in the case is scheduled to begin in october 2006. it joined the lawsuit in december 2001alleging  massive insider trading  and fraud  claiming it had lost $145m on its investments in the company.']\n",
            "Number of sentence tokens: 16\n",
            "['howard  truanted to play snooker  conservative leader michael howard has admitted he used to play truant to spend time with his school friends at a snooker hall.', 'mr howard said his time at jack s snooker hall in llanelli in the 1950s had not done him  any lasting damage .', 'but he told the times educational supplement that truancy was  very bad  and said  firm action  was needed.', 'mr howard also called for a return to o-levels and more classroom discipline.', 'mr howard eventually left llanelli grammar school - and the snooker hall - to go to cambridge university.', 'he said:  i don t think it s done me any lasting damage.', 'nor has it made me a snooker world champion.', 'there might have been some occasions when we left early of an afternoon.', 'i m just being honest.', 'i think truancy is a very bad thing and that firm action should be taken to deal with it.', 'another player who has failed to win snooker s world championship - jimmy  the whirlwind   white - has previously admitted missing lessons  instead spending his days in smoky halls.', 'tony meo [another player] and me used to spend all of our spare time there   mr white said   we loved the game and the atmosphere.', 'school went out of the window.', 'i went for a while and then started taking time off.', 'mr howard s fellow welshman ray reardon - known by his fellow professionals as  dracula  - won the snooker world championship six times  having left school at 14 to work as a miner.', 'and terry griffiths  like mr howard from llanelli  won the tournament in 1979. it is not known whether the two of them ever clashed cues at jack s.']\n",
            "Number of sentence tokens: 16\n",
            "['wales silent on grand slam talk rhys williams says wales are still not thinking of winning the grand slam despite a third six nations win.', 'that s the last thing on our minds at the moment   said williams  a second- half replacement in saturday s 24-18 win over france in paris.', 'we all realise how difficult a task it is to go up to scotland and beat them.', 'we ve come unstuck there a couple of times recently so our focus is on that game and we ll worry about ireland hopefully after we ve beaten scotland.', 'with captain gareth thomas ruled out of the rest of the campaign with a broken thumb  williams is vying for his first start in the championship so far.', 'kevin morgan is probably favourite to replace thomas at full-back  leaving williams and hal luscombe to battle for the right wing berth.', 'a hamstring injury denied luscombe the opportunity to make a third successive start  but the dragons winger is expected to be fit for the trip to murrayfield on 13 march.', 'hooker robin mcbryde is doubtful after picking up a knee injury in paris  but centre sonny parker and flanker colin charvis are set to recover from injury to be in contention for selection.', 'said wales assistant coach scott johnson:  they ve worked through the weekend and the reports are a bit more positive.', 'so we re getting a couple back and that adds to the depth of the squad.', 'scotland secured their first win of the campaign on saturday by grinding out an 18-10 win over italy.', 'matt williams  side has shown little in attack  but johnson insisted the scots will be difficult opposition to break down.', 'italy are really brave opposition and sometimes it s very hard to win   he said.', 'so an ugly win can be just as effective as a 30 or 40 point victory.', 'scotland are a hard side and very underrated so we re not taking anything for granted.', 'we re not basking in the glory of winning our first three games.', 'we ve got to be diligent in our preparation.', 'that s my job and we ve got to make sure we re focused.']\n",
            "Number of sentence tokens: 18\n",
            "['french honour for director parker british film director sir alan parker has been made an officer in the order of arts and letters  one of france s highest cultural honours.', 'sir alan received his decoration in paris on wednesday from french culture minister renaud donnedieu de vabres.', 'you have explored the possibilities of film with an immense talent   mr de vabres said as he presented the award.', 'parker praised french films  saying:  hollywood  which created modern cinema  uses it only as a commodity.', 'he told the minister:  i am honoured to be thus distinguished by france  the flag carrier of cinema throughout the world.', 'sir alan s films include oscar-winning fame plus midnight express and the commitments.', 'a founding member of the director s guild of great britain  he is a former chairman of the uk film council and on the board of the british film institute.', 'through your work and your campaigns  you have shown us how the artist occupies an essential place in our contemporary society   mr de vabres said.', 'through your dreams which you show us  through the links that you weave  you question the world through the mirror of your work.', 'he also cited the director s 2003 film the life of david gale  in which kevin spacey played a man on death row  as proof of his  veritable artistic commitment against the death sentence .']\n",
            "Number of sentence tokens: 10\n",
            "['car giant hit by mercedes slump a slump in profitability at luxury car maker mercedes has prompted a big drop in profits at parent daimlerchrysler.', 'the german-us carmaker saw fourth quarter operating profits fall to 785m euros ($1bn) from 2.4bn euros in 2003. mercedes-benz s woes - its profits slid to just 20m euros - obscured a strong performance from the chrysler group whose returns met market expectations.', 'mercedes faces fierce competition in the luxury car sector from bmw and but hopes to revive its fortunes by 2006.  mercedes  profits over the period compared unfavourably with 2003 s 784m euro figure and were well below analyst expectations of 374m euros.', 'for the year as a whole  its operating profits fell 46% to 1.6bn euros.', 'sales of mercedes  brands fell 2% as demand cooled  while revenues were affected by the weakness of the us dollar.', 'the carmaker blamed the fall in profits on high launch costs for new models and losses from its mercedes smart mini-car range.', 'mercedes is hoping to increase productivity by 3bn euros  having negotiated 500m euros in annual savings with german workers last year.', 'the firm said it was determined to retain mercedes  position as the world s most successful luxury brand.', 'however  daimlerchrysler s shares fell 1.5% on the news.', 'while all these divisions are doing well the big worries continue to surround mercedes-benz   michael rabb  an analyst with bank sal oppenheim  told reuters.', 'in contrast  chrysler enjoyed a 5% annual increase in unit sales while revenues - calculated in us dollars - rose 10%.', 'the us division - whose marques include dodge and jeep - transformed a full year operating loss of 506m euros in 2003 into a 1.4bn euros profit last year.', 'overall  daimlerchrysler saw worldwide vehicle sales rise 8% to 4.7 million in 2004 while total revenues added 4% to 142bn euros.', 'chrysler s strong performance helped the world s fifth largest carmaker boost net income by 400m euros to 2.5bn euros.', 'the year 2004 shows that our strategy works well - even in such a challenging competitive environment   said jurgen schrempp  daimlerchrysler s chairman.', 'daimlerchrysler took a 475m euro hit in costs stemming from a defects scandal at its joint venture  japanese subsidiary fuso.', 'daimlerchrysler last week agreed a compensation package with partner mitsubishi motors which will see it buy out its stake in fuso.', 'looking forward  daimerchrysler s profits are expected to be slightly higher in 2005. however  it is expecting  significant improvements  in profitability in 2006 as a result of a major investment in the mercedes product range.']\n",
            "Number of sentence tokens: 18\n",
            "['fockers fuel festive film chart comedy meet the fockers topped the festive box office in north america  setting a new record for christmas day.', 'the sequel took $44.7m (£23.2m) between 24 and 26 december  according to studio estimates.', 'it took $19.1m (£9.9m) on christmas day alone  the highest takings on that day in box office history.', 'meet the fockers is the sequel to ben stiller comedy meet the parents  also starring robert de niro  blythe danner  dustin hoffman and barbra streisand.', 'despite the success of meet the fockers  takings were down 26.5% on 2003 s figures - which was blamed on christmas falling over a weekend this year.', 'when christmas falls on a weekend  it s bad for business   said paul dergarabedian  president of exhibitor relations  which compiles box office statistics.', 'the weekend s top 12 films took an estimated $121.9m (£63.3m)  compared with $165.8m (£86.1m) last year  when the third lord of the rings film dominated the box office.', 'meet the fockers knocked last week s top film  lemony snicket s a series of unfortunate events  down to third place  with $12.5m (£6.5m).', 'comedy fat albert - co-written by bill cosby - entered the chart in second place after opening on christmas day  taking $12.7m (£6.6m).', 'the aviator  starring leonardo dicaprio as howard hughes  took $9.4m after expanding from 40 to 1 796 cinemas on christmas day.']\n",
            "Number of sentence tokens: 10\n"
          ]
        }
      ],
      "source": [
        "# Sentence Tokenizer\n",
        "\n",
        "for text in sample_data:\n",
        "  sent = sent_tokenize(text)\n",
        "  print(sent)\n",
        "  print(\"Number of sentence tokens:\",len(sent))"
      ]
    },
    {
      "cell_type": "markdown",
      "id": "1TEYcv_CR4BY",
      "metadata": {
        "id": "1TEYcv_CR4BY"
      },
      "source": [
        "### 4. Stemming and Lemmatization with NLTK: Implement stemming and lemmatization using NLTK's PorterStemmer and WordNetLemmatizer functions. Apply these functions to a sample news article from the dataset."
      ]
    },
    {
      "cell_type": "code",
      "execution_count": 59,
      "id": "rv3kX9_IR_Qd",
      "metadata": {
        "id": "rv3kX9_IR_Qd"
      },
      "outputs": [],
      "source": [
        "from nltk.stem import PorterStemmer, WordNetLemmatizer"
      ]
    },
    {
      "cell_type": "code",
      "execution_count": 60,
      "id": "45ewOamDuDRW",
      "metadata": {
        "colab": {
          "base_uri": "https://localhost:8080/"
        },
        "id": "45ewOamDuDRW",
        "outputId": "01769993-1d66-4ffa-c2ae-44b9f0f99885"
      },
      "outputs": [
        {
          "output_type": "stream",
          "name": "stderr",
          "text": [
            "[nltk_data] Downloading package wordnet to /root/nltk_data...\n",
            "[nltk_data]   Package wordnet is already up-to-date!\n"
          ]
        },
        {
          "output_type": "execute_result",
          "data": {
            "text/plain": [
              "True"
            ]
          },
          "metadata": {},
          "execution_count": 60
        }
      ],
      "source": [
        "nltk.download('wordnet')"
      ]
    },
    {
      "cell_type": "code",
      "execution_count": 61,
      "id": "ibedm091STtz",
      "metadata": {
        "colab": {
          "base_uri": "https://localhost:8080/"
        },
        "id": "ibedm091STtz",
        "outputId": "806cd262-fe69-4d07-b3d2-3abbd1bee239"
      },
      "outputs": [
        {
          "output_type": "stream",
          "name": "stdout",
          "text": [
            "Original Article:\n",
            "worldcom ex-boss launches defence lawyers defending former worldcom chief bernie ebbers against a battery of fraud charges have called a company whistleblower as their first witness.  cynthia cooper  worldcom s ex-head of internal accounting  alerted directors to irregular accounting practices at the us telecoms giant in 2002. her warnings led to the collapse of the firm following the discovery of an $11bn (£5.7bn) accounting fraud. mr ebbers has pleaded not guilty to charges of fraud and conspiracy.  prosecution lawyers have argued that mr ebbers orchestrated a series of accounting tricks at worldcom  ordering employees to hide expenses and inflate revenues to meet wall street earnings estimates. but ms cooper  who now runs her own consulting business  told a jury in new york on wednesday that external auditors arthur andersen had approved worldcom s accounting in early 2001 and 2002. she said andersen had given a  green light  to the procedures and practices used by worldcom. mr ebber s lawyers have said he was unaware of the fraud  arguing that auditors did not alert him to any problems.  ms cooper also said that during shareholder meetings mr ebbers often passed over technical questions to the company s finance chief  giving only  brief  answers himself. the prosecution s star witness  former worldcom financial chief scott sullivan  has said that mr ebbers ordered accounting adjustments at the firm  telling him to  hit our books . however  ms cooper said mr sullivan had not mentioned  anything uncomfortable  about worldcom s accounting during a 2001 audit committee meeting. mr ebbers could face a jail sentence of 85 years if convicted of all the charges he is facing. worldcom emerged from bankruptcy protection in 2004  and is now known as mci. last week  mci agreed to a buyout by verizon communications in a deal valued at $6.75bn.\n",
            "\n",
            "Stemmed Tokens:\n",
            "['worldcom', 'ex-boss', 'launch', 'defenc', 'lawyer', 'defend', 'former', 'worldcom', 'chief', 'berni', 'ebber', 'against', 'a', 'batteri', 'of', 'fraud', 'charg', 'have', 'call', 'a', 'compani', 'whistleblow', 'as', 'their', 'first', 'wit', '.', 'cynthia', 'cooper', 'worldcom', 's', 'ex-head', 'of', 'intern', 'account', 'alert', 'director', 'to', 'irregular', 'account', 'practic', 'at', 'the', 'us', 'telecom', 'giant', 'in', '2002.', 'her', 'warn', 'led', 'to', 'the', 'collaps', 'of', 'the', 'firm', 'follow', 'the', 'discoveri', 'of', 'an', '$', '11bn', '(', '£5.7bn', ')', 'account', 'fraud', '.', 'mr', 'ebber', 'ha', 'plead', 'not', 'guilti', 'to', 'charg', 'of', 'fraud', 'and', 'conspiraci', '.', 'prosecut', 'lawyer', 'have', 'argu', 'that', 'mr', 'ebber', 'orchestr', 'a', 'seri', 'of', 'account', 'trick', 'at', 'worldcom', 'order', 'employe', 'to', 'hide', 'expens', 'and', 'inflat', 'revenu', 'to', 'meet', 'wall', 'street', 'earn', 'estim', '.', 'but', 'ms', 'cooper', 'who', 'now', 'run', 'her', 'own', 'consult', 'busi', 'told', 'a', 'juri', 'in', 'new', 'york', 'on', 'wednesday', 'that', 'extern', 'auditor', 'arthur', 'andersen', 'had', 'approv', 'worldcom', 's', 'account', 'in', 'earli', '2001', 'and', '2002.', 'she', 'said', 'andersen', 'had', 'given', 'a', 'green', 'light', 'to', 'the', 'procedur', 'and', 'practic', 'use', 'by', 'worldcom', '.', 'mr', 'ebber', 's', 'lawyer', 'have', 'said', 'he', 'wa', 'unawar', 'of', 'the', 'fraud', 'argu', 'that', 'auditor', 'did', 'not', 'alert', 'him', 'to', 'ani', 'problem', '.', 'ms', 'cooper', 'also', 'said', 'that', 'dure', 'sharehold', 'meet', 'mr', 'ebber', 'often', 'pass', 'over', 'technic', 'question', 'to', 'the', 'compani', 's', 'financ', 'chief', 'give', 'onli', 'brief', 'answer', 'himself', '.', 'the', 'prosecut', 's', 'star', 'wit', 'former', 'worldcom', 'financi', 'chief', 'scott', 'sullivan', 'ha', 'said', 'that', 'mr', 'ebber', 'order', 'account', 'adjust', 'at', 'the', 'firm', 'tell', 'him', 'to', 'hit', 'our', 'book', '.', 'howev', 'ms', 'cooper', 'said', 'mr', 'sullivan', 'had', 'not', 'mention', 'anyth', 'uncomfort', 'about', 'worldcom', 's', 'account', 'dure', 'a', '2001', 'audit', 'committe', 'meet', '.', 'mr', 'ebber', 'could', 'face', 'a', 'jail', 'sentenc', 'of', '85', 'year', 'if', 'convict', 'of', 'all', 'the', 'charg', 'he', 'is', 'face', '.', 'worldcom', 'emerg', 'from', 'bankruptci', 'protect', 'in', '2004', 'and', 'is', 'now', 'known', 'as', 'mci', '.', 'last', 'week', 'mci', 'agre', 'to', 'a', 'buyout', 'by', 'verizon', 'commun', 'in', 'a', 'deal', 'valu', 'at', '$', '6.75bn', '.']\n",
            "\n",
            "Lemmatized Tokens:\n",
            "['worldcom', 'ex-boss', 'launch', 'defence', 'lawyer', 'defending', 'former', 'worldcom', 'chief', 'bernie', 'ebbers', 'against', 'a', 'battery', 'of', 'fraud', 'charge', 'have', 'called', 'a', 'company', 'whistleblower', 'a', 'their', 'first', 'witness', '.', 'cynthia', 'cooper', 'worldcom', 's', 'ex-head', 'of', 'internal', 'accounting', 'alerted', 'director', 'to', 'irregular', 'accounting', 'practice', 'at', 'the', 'u', 'telecom', 'giant', 'in', '2002.', 'her', 'warning', 'led', 'to', 'the', 'collapse', 'of', 'the', 'firm', 'following', 'the', 'discovery', 'of', 'an', '$', '11bn', '(', '£5.7bn', ')', 'accounting', 'fraud', '.', 'mr', 'ebbers', 'ha', 'pleaded', 'not', 'guilty', 'to', 'charge', 'of', 'fraud', 'and', 'conspiracy', '.', 'prosecution', 'lawyer', 'have', 'argued', 'that', 'mr', 'ebbers', 'orchestrated', 'a', 'series', 'of', 'accounting', 'trick', 'at', 'worldcom', 'ordering', 'employee', 'to', 'hide', 'expense', 'and', 'inflate', 'revenue', 'to', 'meet', 'wall', 'street', 'earnings', 'estimate', '.', 'but', 'm', 'cooper', 'who', 'now', 'run', 'her', 'own', 'consulting', 'business', 'told', 'a', 'jury', 'in', 'new', 'york', 'on', 'wednesday', 'that', 'external', 'auditor', 'arthur', 'andersen', 'had', 'approved', 'worldcom', 's', 'accounting', 'in', 'early', '2001', 'and', '2002.', 'she', 'said', 'andersen', 'had', 'given', 'a', 'green', 'light', 'to', 'the', 'procedure', 'and', 'practice', 'used', 'by', 'worldcom', '.', 'mr', 'ebber', 's', 'lawyer', 'have', 'said', 'he', 'wa', 'unaware', 'of', 'the', 'fraud', 'arguing', 'that', 'auditor', 'did', 'not', 'alert', 'him', 'to', 'any', 'problem', '.', 'm', 'cooper', 'also', 'said', 'that', 'during', 'shareholder', 'meeting', 'mr', 'ebbers', 'often', 'passed', 'over', 'technical', 'question', 'to', 'the', 'company', 's', 'finance', 'chief', 'giving', 'only', 'brief', 'answer', 'himself', '.', 'the', 'prosecution', 's', 'star', 'witness', 'former', 'worldcom', 'financial', 'chief', 'scott', 'sullivan', 'ha', 'said', 'that', 'mr', 'ebbers', 'ordered', 'accounting', 'adjustment', 'at', 'the', 'firm', 'telling', 'him', 'to', 'hit', 'our', 'book', '.', 'however', 'm', 'cooper', 'said', 'mr', 'sullivan', 'had', 'not', 'mentioned', 'anything', 'uncomfortable', 'about', 'worldcom', 's', 'accounting', 'during', 'a', '2001', 'audit', 'committee', 'meeting', '.', 'mr', 'ebbers', 'could', 'face', 'a', 'jail', 'sentence', 'of', '85', 'year', 'if', 'convicted', 'of', 'all', 'the', 'charge', 'he', 'is', 'facing', '.', 'worldcom', 'emerged', 'from', 'bankruptcy', 'protection', 'in', '2004', 'and', 'is', 'now', 'known', 'a', 'mci', '.', 'last', 'week', 'mci', 'agreed', 'to', 'a', 'buyout', 'by', 'verizon', 'communication', 'in', 'a', 'deal', 'valued', 'at', '$', '6.75bn', '.']\n"
          ]
        }
      ],
      "source": [
        "sample_article_index = 0\n",
        "sample_article_text = data['Text'][sample_article_index]\n",
        "\n",
        "tokens = word_tokenize(sample_article_text)\n",
        "\n",
        "porter_stemmer = PorterStemmer()\n",
        "stemmed_tokens = [porter_stemmer.stem(token) for token in tokens]\n",
        "\n",
        "wordnet_lemmatizer = WordNetLemmatizer()\n",
        "lemmatized_tokens = [wordnet_lemmatizer.lemmatize(token) for token in tokens]\n",
        "\n",
        "print(f\"Original Article:\\n{sample_article_text}\\n\")\n",
        "print(f\"Stemmed Tokens:\\n{stemmed_tokens}\\n\")\n",
        "print(f\"Lemmatized Tokens:\\n{lemmatized_tokens}\")"
      ]
    },
    {
      "cell_type": "markdown",
      "id": "znkht3TRSi4O",
      "metadata": {
        "id": "znkht3TRSi4O"
      },
      "source": [
        "### 5. Named Entity Recognition with SpaCy: Use SpaCy's pre-trained model to perform named entity recognition on a sample news article from the dataset. Visualize the named entities using displaCy."
      ]
    },
    {
      "cell_type": "code",
      "execution_count": 62,
      "id": "wMCO1BmkSrJy",
      "metadata": {
        "id": "wMCO1BmkSrJy"
      },
      "outputs": [],
      "source": [
        "import spacy"
      ]
    },
    {
      "cell_type": "code",
      "execution_count": 63,
      "id": "eYcOWzorS7K8",
      "metadata": {
        "colab": {
          "base_uri": "https://localhost:8080/"
        },
        "id": "eYcOWzorS7K8",
        "outputId": "b4c6fbcc-e618-417c-ea71-fed58d624132"
      },
      "outputs": [
        {
          "output_type": "stream",
          "name": "stdout",
          "text": [
            "\u001b[38;5;2m✔ Download and installation successful\u001b[0m\n",
            "You can now load the package via spacy.load('en_core_web_sm')\n"
          ]
        }
      ],
      "source": [
        "spacy.cli.download(\"en_core_web_sm\")"
      ]
    },
    {
      "cell_type": "code",
      "execution_count": 64,
      "id": "iOac4hYfS9he",
      "metadata": {
        "id": "iOac4hYfS9he"
      },
      "outputs": [],
      "source": [
        "nlp = spacy.load(\"en_core_web_sm\")"
      ]
    },
    {
      "cell_type": "code",
      "execution_count": 65,
      "id": "RwD93e4uTERH",
      "metadata": {
        "colab": {
          "base_uri": "https://localhost:8080/"
        },
        "id": "RwD93e4uTERH",
        "outputId": "9a257d35-c61e-4931-f10a-36a13f41abc2"
      },
      "outputs": [
        {
          "output_type": "stream",
          "name": "stdout",
          "text": [
            "['worldcom ex-boss launches defence lawyers defending former worldcom chief bernie ebbers against a battery of fraud charges have called a company whistleblower as their first witness.', 'cynthia cooper  worldcom s ex-head of internal accounting  alerted directors to irregular accounting practices at the us telecoms giant in 2002. her warnings led to the collapse of the firm following the discovery of an $11bn (£5.7bn) accounting fraud.', 'mr ebbers has pleaded not guilty to charges of fraud and conspiracy.', 'prosecution lawyers have argued that mr ebbers orchestrated a series of accounting tricks at worldcom  ordering employees to hide expenses and inflate revenues to meet wall street earnings estimates.', 'but ms cooper  who now runs her own consulting business  told a jury in new york on wednesday that external auditors arthur andersen had approved worldcom s accounting in early 2001 and 2002. she said andersen had given a  green light  to the procedures and practices used by worldcom.', 'mr ebber s lawyers have said he was unaware of the fraud  arguing that auditors did not alert him to any problems.', 'ms cooper also said that during shareholder meetings mr ebbers often passed over technical questions to the company s finance chief  giving only  brief  answers himself.', 'the prosecution s star witness  former worldcom financial chief scott sullivan  has said that mr ebbers ordered accounting adjustments at the firm  telling him to  hit our books .', 'however  ms cooper said mr sullivan had not mentioned  anything uncomfortable  about worldcom s accounting during a 2001 audit committee meeting.', 'mr ebbers could face a jail sentence of 85 years if convicted of all the charges he is facing.', 'worldcom emerged from bankruptcy protection in 2004  and is now known as mci.', 'last week  mci agreed to a buyout by verizon communications in a deal valued at $6.75bn.']\n",
            "worldcom ex-boss --> PERSON\n",
            "worldcom --> ORG\n",
            "bernie --> PERSON\n",
            "first --> ORDINAL\n",
            "\n",
            "\n",
            "['german business confidence slides german business confidence fell in february knocking hopes of a speedy recovery in europe s largest economy.', 'munich-based research institute ifo said that its confidence index fell to 95.5 in february from 97.5 in january  its first decline in three months.', 'the study found that the outlook in both the manufacturing and retail sectors had worsened.', 'observers had been hoping that a more confident business sector would signal that economic activity was picking up.', 'we re surprised that the ifo index has taken such a knock   said dz bank economist bernd weidensteiner.', 'the main reason is probably that the domestic economy is still weak  particularly in the retail trade.', 'economy and labour minister wolfgang clement called the dip in february s ifo confidence figure  a very mild decline .', 'he said that despite the retreat  the index remained at a relatively high level and that he expected  a modest economic upswing  to continue.', 'germany s economy grew 1.6% last year after shrinking in 2003. however  the economy contracted by 0.2% during the last three months of 2004  mainly due to the reluctance of consumers to spend.', 'latest indications are that growth is still proving elusive and ifo president hans-werner sinn said any improvement in german domestic demand was sluggish.', 'exports had kept things going during the first half of 2004  but demand for exports was then hit as the value of the euro hit record levels making german products less competitive overseas.', 'on top of that  the unemployment rate has been stuck at close to 10% and manufacturing firms  including daimlerchrysler  siemens and volkswagen  have been negotiating with unions over cost cutting measures.', 'analysts said that the ifo figures and germany s continuing problems may delay an interest rate rise by the european central bank.', 'eurozone interest rates are at 2%  but comments from senior officials have recently focused on the threat of inflation  prompting fears that interest rates may rise.']\n",
            "german --> NORP\n",
            "german --> NORP\n",
            "february --> DATE\n",
            "europe --> LOC\n",
            "\n",
            "\n",
            "['bbc poll indicates economic gloom citizens in a majority of nations surveyed in a bbc world service poll believe the world economy is worsening.', 'most respondents also said their national economy was getting worse.', 'but when asked about their own family s financial outlook  a majority in 14 countries said they were positive about the future.', 'almost 23 000 people in 22 countries were questioned for the poll  which was mostly conducted before the asian tsunami disaster.', 'the poll found that a majority or plurality of people in 13 countries believed the economy was going downhill  compared with respondents in nine countries who believed it was improving.', 'those surveyed in three countries were split.', 'in percentage terms  an average of 44% of respondents in each country said the world economy was getting worse  compared to 34% who said it was improving.', 'similarly  48% were pessimistic about their national economy  while 41% were optimistic.', 'and 47% saw their family s economic conditions improving  as against 36% who said they were getting worse.', 'the poll of 22 953 people was conducted by the international polling firm globescan  together with the program on international policy attitudes (pipa) at the university of maryland.', 'while the world economy has picked up from difficult times just a few years ago  people seem to not have fully absorbed this development  though they are personally experiencing its effects   said pipa director steven kull.', 'people around the world are saying:  i m ok  but the world isn t .', 'there may be a perception that war  terrorism and religious and political divisions are making the world a worse place  even though that has not so far been reflected in global economic performance  says the bbc s elizabeth blunt.', 'the countries where people were most optimistic  both for the world and for their own families  were two fast-growing developing economies  china and india  followed by indonesia.', 'china has seen two decades of blistering economic growth  which has led to wealth creation on a huge scale  says the bbc s louisa lim in beijing.', 'but the results also may reflect the untrammelled confidence of people who are subject to endless government propaganda about their country s rosy economic future  our correspondent says.', 'south korea was the most pessimistic  while respondents in italy and mexico were also quite gloomy.', 'the bbc s david willey in rome says one reason for that result is the changeover from the lira to the euro in 2001  which is widely viewed as the biggest reason why their wages and salaries are worth less than they used to be.', 'the philippines was among the most upbeat countries on prospects for respondents  families  but one of the most pessimistic about the world economy.', 'pipa conducted the poll from 15 november 2004 to 3 january 2005 across 22 countries in face-to-face or telephone interviews.', 'the interviews took place between 15 november 2004 and 5 january 2005. the margin of error is between 2.5 and 4 points  depending on the country.', 'in eight of the countries  the sample was limited to major metropolitan areas.']\n",
            "bbc --> ORG\n",
            "bbc world --> ORG\n",
            "\n",
            "\n",
            "['lifestyle  governs mobile choice  faster  better or funkier hardware alone is not going to help phone firms sell more handsets  research suggests.', 'instead  phone firms keen to get more out of their customers should not just be pushing the technology for its own sake.', 'consumers are far more interested in how handsets fit in with their lifestyle than they are in screen size  onboard memory or the chip inside  shows an in-depth study by handset maker ericsson.', 'historically in the industry there has been too much focus on using technology   said dr michael bjorn  senior advisor on mobile media at ericsson s consumer and enterprise lab.', 'we have to stop saying that these technologies will change their lives   he said.', 'we should try to speak to consumers in their own language and help them see how it fits in with what they are doing   he told the bbc news website.', 'for the study  ericsson interviewed 14 000 mobile phone owners on the ways they use their phone.', 'people s habits remain the same   said dr bjorn.', 'they just move the activity into the mobile phone as it s a much more convenient way to do it.', 'one good example of this was diary-writing among younger people  he said.', 'while diaries have always been popular  a mobile phone -- especially one equipped with a camera -- helps them keep it in a different form.', 'youngsters  use of text messages also reflects their desire to chat and keep in contact with friends and again just lets them do it in a slightly changed way.', 'dr bjorn said that although consumers do what they always did but use a phone to do it  the sheer variety of what the new handset technologies make possible does gradually drive new habits and lifestyles.', 'ericsson s research has shown that consumers divide into different  tribes  that use phones in different ways.', 'dr bjorn said groups dubbed  pioneers  and  materialists  were most interested in trying new things and were behind the start of many trends in phone use.', 'for instance   he said   older people are using sms much more than they did five years ago.', 'this was because younger users  often the children of ageing mobile owners  encouraged older people to try it so they could keep in touch.', 'another factor governing the speed of change in mobile phone use was the simple speed with which new devices are bought by pioneers and materialists.', 'only when about 25% of people have handsets with new innovations on them  such as cameras  can consumers stop worrying that if they send a picture message the person at the other end will be able to see it.', 'once this significant number of users is passed  use of new innovations tends to take off.', 'dr bjorn said that early reports of camera phone usage in japan seemed to imply that the innovation was going to be a flop.', 'however  he said  now 45% of the japanese people ericsson questioned use their camera phone at least once a month.', 'in 2003 the figure was 29%.', 'similarly  across europe the numbers of people taking snaps with cameras is starting to rise.', 'in 2003 only 4% of the people in the uk took a phonecam snap at least once a month.', 'now the figure is 14%.', 'similar rises have been seen in many other european nations.', 'dr bjorn said that people also used their camera phones in very different ways to film and even digital cameras.', 'usage patterns for digital cameras are almost exactly replacing usage patterns for analogue cameras   he said.', 'digital cameras tend to be used on significant events such as weddings  holidays and birthdays.', 'by contrast  he said  camera phones were being used much more to capture a moment and were being woven into everyday life.']\n",
            "\n",
            "\n",
            "['enron bosses in $168m payout eighteen former enron directors have agreed a $168m (£89m) settlement deal in a shareholder lawsuit over the collapse of the energy firm.', 'leading plaintiff  the university of california  announced the news  adding that 10 of the former directors will pay $13m from their own pockets.', 'the settlement will be put to the courts for approval next week.', 'enron went bankrupt in 2001 after it emerged it had hidden hundreds of millions of dollars in debt.', 'before its collapse  the firm was the seventh biggest public us company by revenue.', 'its demise sent shockwaves through financial markets and dented investor confidence in corporate america.', 'the settlement is very significant in holding these outside directors at least partially personally responsible   william lerach  the lawyer leading the class action suit against enron  said.', 'hopefully  this will help send a message to corporate boardrooms of the importance of directors performing their legal duties   he added.', 'under the terms of the $168m settlement - $155m of which will be covered by insurance - none of the 18 former directors will admit any wrongdoing.', 'the deal is the fourth major settlement negotiated by lawyers who filed a class action on behalf of enron s shareholders almost three years ago.', 'so far  including the latest deal  just under $500m (£378.8m) has been retrieved for investors.', 'however  the latest deal does not include former enron chief executives ken lay and jeff skilling.', 'both men are facing criminal charges for their alleged misconduct in the run up to the firm s collapse.', 'neither does it cover andrew fastow  who has pleaded guilty to taking part in an illegal conspiracy while he was chief financial officer at the group.', 'enron s shareholders are still seeking damages from a long list of other big name defendants including the financial institutions jp morgan chase  citigroup  merrill lynch and credit suisse first boston.', 'the university of california said the trial in the case is scheduled to begin in october 2006. it joined the lawsuit in december 2001alleging  massive insider trading  and fraud  claiming it had lost $145m on its investments in the company.']\n",
            "enron --> ORG\n",
            "168 --> MONEY\n",
            "eighteen --> CARDINAL\n",
            "$168 --> MONEY\n",
            "89 --> MONEY\n",
            "\n",
            "\n",
            "['howard  truanted to play snooker  conservative leader michael howard has admitted he used to play truant to spend time with his school friends at a snooker hall.', 'mr howard said his time at jack s snooker hall in llanelli in the 1950s had not done him  any lasting damage .', 'but he told the times educational supplement that truancy was  very bad  and said  firm action  was needed.', 'mr howard also called for a return to o-levels and more classroom discipline.', 'mr howard eventually left llanelli grammar school - and the snooker hall - to go to cambridge university.', 'he said:  i don t think it s done me any lasting damage.', 'nor has it made me a snooker world champion.', 'there might have been some occasions when we left early of an afternoon.', 'i m just being honest.', 'i think truancy is a very bad thing and that firm action should be taken to deal with it.', 'another player who has failed to win snooker s world championship - jimmy  the whirlwind   white - has previously admitted missing lessons  instead spending his days in smoky halls.', 'tony meo [another player] and me used to spend all of our spare time there   mr white said   we loved the game and the atmosphere.', 'school went out of the window.', 'i went for a while and then started taking time off.', 'mr howard s fellow welshman ray reardon - known by his fellow professionals as  dracula  - won the snooker world championship six times  having left school at 14 to work as a miner.', 'and terry griffiths  like mr howard from llanelli  won the tournament in 1979. it is not known whether the two of them ever clashed cues at jack s.']\n",
            "howard   --> PERSON\n",
            "michael howard --> PERSON\n",
            "\n",
            "\n",
            "['wales silent on grand slam talk rhys williams says wales are still not thinking of winning the grand slam despite a third six nations win.', 'that s the last thing on our minds at the moment   said williams  a second- half replacement in saturday s 24-18 win over france in paris.', 'we all realise how difficult a task it is to go up to scotland and beat them.', 'we ve come unstuck there a couple of times recently so our focus is on that game and we ll worry about ireland hopefully after we ve beaten scotland.', 'with captain gareth thomas ruled out of the rest of the campaign with a broken thumb  williams is vying for his first start in the championship so far.', 'kevin morgan is probably favourite to replace thomas at full-back  leaving williams and hal luscombe to battle for the right wing berth.', 'a hamstring injury denied luscombe the opportunity to make a third successive start  but the dragons winger is expected to be fit for the trip to murrayfield on 13 march.', 'hooker robin mcbryde is doubtful after picking up a knee injury in paris  but centre sonny parker and flanker colin charvis are set to recover from injury to be in contention for selection.', 'said wales assistant coach scott johnson:  they ve worked through the weekend and the reports are a bit more positive.', 'so we re getting a couple back and that adds to the depth of the squad.', 'scotland secured their first win of the campaign on saturday by grinding out an 18-10 win over italy.', 'matt williams  side has shown little in attack  but johnson insisted the scots will be difficult opposition to break down.', 'italy are really brave opposition and sometimes it s very hard to win   he said.', 'so an ugly win can be just as effective as a 30 or 40 point victory.', 'scotland are a hard side and very underrated so we re not taking anything for granted.', 'we re not basking in the glory of winning our first three games.', 'we ve got to be diligent in our preparation.', 'that s my job and we ve got to make sure we re focused.']\n",
            "rhys williams --> PERSON\n",
            "third --> ORDINAL\n",
            "six --> CARDINAL\n",
            "\n",
            "\n",
            "['french honour for director parker british film director sir alan parker has been made an officer in the order of arts and letters  one of france s highest cultural honours.', 'sir alan received his decoration in paris on wednesday from french culture minister renaud donnedieu de vabres.', 'you have explored the possibilities of film with an immense talent   mr de vabres said as he presented the award.', 'parker praised french films  saying:  hollywood  which created modern cinema  uses it only as a commodity.', 'he told the minister:  i am honoured to be thus distinguished by france  the flag carrier of cinema throughout the world.', 'sir alan s films include oscar-winning fame plus midnight express and the commitments.', 'a founding member of the director s guild of great britain  he is a former chairman of the uk film council and on the board of the british film institute.', 'through your work and your campaigns  you have shown us how the artist occupies an essential place in our contemporary society   mr de vabres said.', 'through your dreams which you show us  through the links that you weave  you question the world through the mirror of your work.', 'he also cited the director s 2003 film the life of david gale  in which kevin spacey played a man on death row  as proof of his  veritable artistic commitment against the death sentence .']\n",
            "french --> NORP\n",
            "british --> NORP\n",
            "alan parker --> PERSON\n",
            "france --> GPE\n",
            "\n",
            "\n",
            "['car giant hit by mercedes slump a slump in profitability at luxury car maker mercedes has prompted a big drop in profits at parent daimlerchrysler.', 'the german-us carmaker saw fourth quarter operating profits fall to 785m euros ($1bn) from 2.4bn euros in 2003. mercedes-benz s woes - its profits slid to just 20m euros - obscured a strong performance from the chrysler group whose returns met market expectations.', 'mercedes faces fierce competition in the luxury car sector from bmw and but hopes to revive its fortunes by 2006.  mercedes  profits over the period compared unfavourably with 2003 s 784m euro figure and were well below analyst expectations of 374m euros.', 'for the year as a whole  its operating profits fell 46% to 1.6bn euros.', 'sales of mercedes  brands fell 2% as demand cooled  while revenues were affected by the weakness of the us dollar.', 'the carmaker blamed the fall in profits on high launch costs for new models and losses from its mercedes smart mini-car range.', 'mercedes is hoping to increase productivity by 3bn euros  having negotiated 500m euros in annual savings with german workers last year.', 'the firm said it was determined to retain mercedes  position as the world s most successful luxury brand.', 'however  daimlerchrysler s shares fell 1.5% on the news.', 'while all these divisions are doing well the big worries continue to surround mercedes-benz   michael rabb  an analyst with bank sal oppenheim  told reuters.', 'in contrast  chrysler enjoyed a 5% annual increase in unit sales while revenues - calculated in us dollars - rose 10%.', 'the us division - whose marques include dodge and jeep - transformed a full year operating loss of 506m euros in 2003 into a 1.4bn euros profit last year.', 'overall  daimlerchrysler saw worldwide vehicle sales rise 8% to 4.7 million in 2004 while total revenues added 4% to 142bn euros.', 'chrysler s strong performance helped the world s fifth largest carmaker boost net income by 400m euros to 2.5bn euros.', 'the year 2004 shows that our strategy works well - even in such a challenging competitive environment   said jurgen schrempp  daimlerchrysler s chairman.', 'daimlerchrysler took a 475m euro hit in costs stemming from a defects scandal at its joint venture  japanese subsidiary fuso.', 'daimlerchrysler last week agreed a compensation package with partner mitsubishi motors which will see it buy out its stake in fuso.', 'looking forward  daimerchrysler s profits are expected to be slightly higher in 2005. however  it is expecting  significant improvements  in profitability in 2006 as a result of a major investment in the mercedes product range.']\n",
            "\n",
            "\n",
            "['fockers fuel festive film chart comedy meet the fockers topped the festive box office in north america  setting a new record for christmas day.', 'the sequel took $44.7m (£23.2m) between 24 and 26 december  according to studio estimates.', 'it took $19.1m (£9.9m) on christmas day alone  the highest takings on that day in box office history.', 'meet the fockers is the sequel to ben stiller comedy meet the parents  also starring robert de niro  blythe danner  dustin hoffman and barbra streisand.', 'despite the success of meet the fockers  takings were down 26.5% on 2003 s figures - which was blamed on christmas falling over a weekend this year.', 'when christmas falls on a weekend  it s bad for business   said paul dergarabedian  president of exhibitor relations  which compiles box office statistics.', 'the weekend s top 12 films took an estimated $121.9m (£63.3m)  compared with $165.8m (£86.1m) last year  when the third lord of the rings film dominated the box office.', 'meet the fockers knocked last week s top film  lemony snicket s a series of unfortunate events  down to third place  with $12.5m (£6.5m).', 'comedy fat albert - co-written by bill cosby - entered the chart in second place after opening on christmas day  taking $12.7m (£6.6m).', 'the aviator  starring leonardo dicaprio as howard hughes  took $9.4m after expanding from 40 to 1 796 cinemas on christmas day.']\n",
            "north america --> LOC\n",
            "christmas day --> DATE\n",
            "\n",
            "\n"
          ]
        }
      ],
      "source": [
        "for text in sample_data:\n",
        "  sent = sent_tokenize(text)\n",
        "  print(sent)\n",
        "  doc = nlp(sent[0]) # taking first sentence from every each text\n",
        "  for ent in doc.ents:\n",
        "    print(f\"{ent} --> {ent.label_}\")\n",
        "  print(\"\\n\")"
      ]
    },
    {
      "cell_type": "markdown",
      "id": "ZzRD-mlMVTLV",
      "metadata": {
        "id": "ZzRD-mlMVTLV"
      },
      "source": [
        "### 6. Word2Vec with gensim: Implement Word2Vec using gensim's Word2Vec function on the entire dataset. Train the model and get the vector representation of a sample word."
      ]
    },
    {
      "cell_type": "code",
      "execution_count": 66,
      "id": "lXx-f7nnVXfU",
      "metadata": {
        "colab": {
          "base_uri": "https://localhost:8080/"
        },
        "id": "lXx-f7nnVXfU",
        "outputId": "f1043107-c5e6-4a56-e9c3-0f638a746ef7"
      },
      "outputs": [
        {
          "output_type": "stream",
          "name": "stdout",
          "text": [
            "['worldcom ex-boss launches defence lawyers defending former worldcom chief bernie ebbers against a battery of fraud charges have called a company whistleblower as their first witness.', 'cynthia cooper  worldcom s ex-head of internal accounting  alerted directors to irregular accounting practices at the us telecoms giant in 2002. her warnings led to the collapse of the firm following the discovery of an $11bn (£5.7bn) accounting fraud.', 'mr ebbers has pleaded not guilty to charges of fraud and conspiracy.', 'prosecution lawyers have argued that mr ebbers orchestrated a series of accounting tricks at worldcom  ordering employees to hide expenses and inflate revenues to meet wall street earnings estimates.', 'but ms cooper  who now runs her own consulting business  told a jury in new york on wednesday that external auditors arthur andersen had approved worldcom s accounting in early 2001 and 2002. she said andersen had given a  green light  to the procedures and practices used by worldcom.', 'mr ebber s lawyers have said he was unaware of the fraud  arguing that auditors did not alert him to any problems.', 'ms cooper also said that during shareholder meetings mr ebbers often passed over technical questions to the company s finance chief  giving only  brief  answers himself.', 'the prosecution s star witness  former worldcom financial chief scott sullivan  has said that mr ebbers ordered accounting adjustments at the firm  telling him to  hit our books .', 'however  ms cooper said mr sullivan had not mentioned  anything uncomfortable  about worldcom s accounting during a 2001 audit committee meeting.', 'mr ebbers could face a jail sentence of 85 years if convicted of all the charges he is facing.', 'worldcom emerged from bankruptcy protection in 2004  and is now known as mci.', 'last week  mci agreed to a buyout by verizon communications in a deal valued at $6.75bn.']\n",
            "Number of sentence tokens: 12\n",
            "[['worldcom', 'ex-boss', 'launches', 'defence', 'lawyers', 'defending', 'former', 'worldcom', 'chief', 'bernie', 'ebbers', 'against', 'a', 'battery', 'of', 'fraud', 'charges', 'have', 'called', 'a', 'company', 'whistleblower', 'as', 'their', 'first', 'witness', '.'], ['cynthia', 'cooper', 'worldcom', 's', 'ex-head', 'of', 'internal', 'accounting', 'alerted', 'directors', 'to', 'irregular', 'accounting', 'practices', 'at', 'the', 'us', 'telecoms', 'giant', 'in', '2002.', 'her', 'warnings', 'led', 'to', 'the', 'collapse', 'of', 'the', 'firm', 'following', 'the', 'discovery', 'of', 'an', '$', '11bn', '(', '£5.7bn', ')', 'accounting', 'fraud', '.'], ['mr', 'ebbers', 'has', 'pleaded', 'not', 'guilty', 'to', 'charges', 'of', 'fraud', 'and', 'conspiracy', '.'], ['prosecution', 'lawyers', 'have', 'argued', 'that', 'mr', 'ebbers', 'orchestrated', 'a', 'series', 'of', 'accounting', 'tricks', 'at', 'worldcom', 'ordering', 'employees', 'to', 'hide', 'expenses', 'and', 'inflate', 'revenues', 'to', 'meet', 'wall', 'street', 'earnings', 'estimates', '.'], ['but', 'ms', 'cooper', 'who', 'now', 'runs', 'her', 'own', 'consulting', 'business', 'told', 'a', 'jury', 'in', 'new', 'york', 'on', 'wednesday', 'that', 'external', 'auditors', 'arthur', 'andersen', 'had', 'approved', 'worldcom', 's', 'accounting', 'in', 'early', '2001', 'and', '2002.', 'she', 'said', 'andersen', 'had', 'given', 'a', 'green', 'light', 'to', 'the', 'procedures', 'and', 'practices', 'used', 'by', 'worldcom', '.'], ['mr', 'ebber', 's', 'lawyers', 'have', 'said', 'he', 'was', 'unaware', 'of', 'the', 'fraud', 'arguing', 'that', 'auditors', 'did', 'not', 'alert', 'him', 'to', 'any', 'problems', '.'], ['ms', 'cooper', 'also', 'said', 'that', 'during', 'shareholder', 'meetings', 'mr', 'ebbers', 'often', 'passed', 'over', 'technical', 'questions', 'to', 'the', 'company', 's', 'finance', 'chief', 'giving', 'only', 'brief', 'answers', 'himself', '.'], ['the', 'prosecution', 's', 'star', 'witness', 'former', 'worldcom', 'financial', 'chief', 'scott', 'sullivan', 'has', 'said', 'that', 'mr', 'ebbers', 'ordered', 'accounting', 'adjustments', 'at', 'the', 'firm', 'telling', 'him', 'to', 'hit', 'our', 'books', '.'], ['however', 'ms', 'cooper', 'said', 'mr', 'sullivan', 'had', 'not', 'mentioned', 'anything', 'uncomfortable', 'about', 'worldcom', 's', 'accounting', 'during', 'a', '2001', 'audit', 'committee', 'meeting', '.'], ['mr', 'ebbers', 'could', 'face', 'a', 'jail', 'sentence', 'of', '85', 'years', 'if', 'convicted', 'of', 'all', 'the', 'charges', 'he', 'is', 'facing', '.'], ['worldcom', 'emerged', 'from', 'bankruptcy', 'protection', 'in', '2004', 'and', 'is', 'now', 'known', 'as', 'mci', '.'], ['last', 'week', 'mci', 'agreed', 'to', 'a', 'buyout', 'by', 'verizon', 'communications', 'in', 'a', 'deal', 'valued', 'at', '$', '6.75bn', '.']]\n",
            "Vector representation of 'worldcom':\n",
            "[-8.8034943e-03  2.2581222e-03 -8.9494867e-04 -9.3444996e-03\n",
            " -9.3979966e-03 -1.4892365e-03  4.5195953e-03  3.8499001e-03\n",
            " -6.5584504e-03 -6.9462238e-03 -4.9390397e-03 -2.3554161e-03\n",
            " -7.2470866e-03 -9.5913261e-03 -2.6743393e-03 -8.3611766e-03\n",
            " -6.0143797e-03 -5.8179484e-03 -2.4107518e-03 -1.8619832e-03\n",
            " -8.9596426e-03 -6.6687033e-04  8.2488712e-03  7.7135223e-03\n",
            " -7.2542694e-03 -3.6223293e-03  3.1043878e-03 -9.6349614e-03\n",
            "  1.4261293e-03  6.5263347e-03  5.8398522e-03 -8.7861773e-03\n",
            " -4.5104339e-03 -8.1981886e-03 -2.7478272e-05  9.3988292e-03\n",
            "  6.0058795e-03  5.0317375e-03  5.0160559e-03 -3.3037146e-03\n",
            "  9.5958496e-03 -7.4169007e-03 -7.3239347e-03 -2.2613574e-03\n",
            " -7.2692917e-04 -3.2156000e-03 -5.9147197e-04  7.4246540e-03\n",
            " -6.5383816e-04 -1.6015483e-03  2.8165763e-03 -8.4010931e-03\n",
            "  7.8549450e-03  8.4544914e-03 -9.5867263e-03  2.4455506e-03\n",
            "  9.9355513e-03 -7.6594125e-03 -6.9896821e-03 -7.6790140e-03\n",
            "  8.3438680e-03 -6.5396592e-04  9.2071677e-03 -8.1810923e-03\n",
            "  3.6509654e-03  2.6792509e-03  7.8934687e-04  2.4268492e-03\n",
            " -7.5715836e-03 -9.2497226e-03  2.3011924e-03  6.2275683e-03\n",
            "  8.0081243e-03  5.7563349e-03 -7.1747962e-04  8.3195986e-03\n",
            " -9.3195019e-03  3.4302664e-03  1.6623631e-04  3.9271610e-03\n",
            "  7.3452205e-03 -6.6774953e-03  5.5666002e-03 -9.3792006e-03\n",
            " -8.4745314e-04 -8.7076239e-03 -5.0617489e-03  9.3575455e-03\n",
            " -1.7683749e-03  2.9391784e-03  9.0951435e-03  9.0218037e-03\n",
            " -8.2301116e-03 -3.0157100e-03  1.0048281e-02  5.1523987e-03\n",
            " -1.5147905e-03 -8.7413825e-03  2.9598726e-03 -6.6984100e-03]\n",
            "Vector representation of 'chief':\n",
            "[-0.00257029 -0.00580309  0.00747106 -0.00727192 -0.00896563 -0.00182666\n",
            " -0.00830906  0.00044912  0.00190725 -0.00250027 -0.00639307 -0.0003468\n",
            " -0.00109897  0.00347316  0.00820754  0.00582949  0.00844064 -0.00906373\n",
            "  0.00939177 -0.0024479   0.00868655  0.002406    0.00363422 -0.00956002\n",
            " -0.00952171  0.0089924  -0.00290349  0.00279612  0.0063921  -0.00032491\n",
            "  0.00977675 -0.00105185 -0.00965645 -0.00706375 -0.00104895 -0.00860815\n",
            "  0.00744808  0.00363112 -0.00878533  0.00845211  0.00893582  0.00579853\n",
            "  0.00688142 -0.00957873  0.00051844 -0.0092243  -0.00363644  0.00023456\n",
            " -0.00027951  0.00150256  0.0033325   0.00210988  0.00534007  0.00746845\n",
            " -0.00587845  0.00794933  0.00603841  0.00979353  0.00461951 -0.00329988\n",
            " -0.00378429 -0.00059591 -0.00161666  0.00985172  0.00107823  0.00401191\n",
            "  0.00343588 -0.00877749  0.0066579   0.00825015 -0.00169377  0.00237394\n",
            " -0.00645049 -0.00611034  0.00825706 -0.00305257  0.00673048  0.00155552\n",
            " -0.00203815  0.00308287 -0.00403551 -0.00175944  0.00135852  0.00498839\n",
            " -0.0014202   0.00066484 -0.00792444  0.00951369 -0.00871002  0.00709072\n",
            "  0.00392084 -0.00697328 -0.00532024 -0.00793667 -0.00500707  0.00710877\n",
            "  0.00966924  0.00210295  0.00064158  0.00946529]\n"
          ]
        }
      ],
      "source": [
        "from gensim.models import Word2Vec\n",
        "\n",
        "for text in sample_data:\n",
        "  text1_sent = sent_tokenize(text)\n",
        "  print(text1_sent)\n",
        "  print(\"Number of sentence tokens:\",len(text1_sent))\n",
        "  break\n",
        "\n",
        "tokenized_sentences = [word_tokenize(sentence.lower()) for sentence in text1_sent]\n",
        "print(tokenized_sentences)\n",
        "\n",
        "model = Word2Vec(sentences=tokenized_sentences, vector_size=100, window=5, min_count=1, workers=4)\n",
        "\n",
        "sample_word_vector = model.wv['worldcom']\n",
        "print(f\"Vector representation of 'worldcom':\\n{sample_word_vector}\")\n",
        "\n",
        "word_to_check = 'chief'\n",
        "\n",
        "if word_to_check in model.wv.index_to_key:\n",
        "    vector_representation = model.wv[word_to_check]\n",
        "    print(f\"Vector representation of '{word_to_check}':\\n{vector_representation}\")"
      ]
    },
    {
      "cell_type": "markdown",
      "id": "X67N1VKkchth",
      "metadata": {
        "id": "X67N1VKkchth"
      },
      "source": [
        "### 7. TF-IDF with scikit-learn: Implement TF-IDF using scikit-learn's TfidfVectorizer function on the entire dataset. Transform the dataset using the fitted vectorizer and calculate the cosine similarity between two news articles."
      ]
    },
    {
      "cell_type": "code",
      "execution_count": 67,
      "id": "0E3MMk1Ccj8P",
      "metadata": {
        "id": "0E3MMk1Ccj8P"
      },
      "outputs": [],
      "source": [
        "from sklearn.feature_extraction.text import TfidfVectorizer\n",
        "from sklearn.metrics.pairwise import cosine_similarity"
      ]
    },
    {
      "cell_type": "code",
      "execution_count": 68,
      "id": "bBSRUNy4PfTt",
      "metadata": {
        "id": "bBSRUNy4PfTt"
      },
      "outputs": [],
      "source": [
        "# Vectorize using TF-IDF\n",
        "tfidf_vectorizer = TfidfVectorizer()\n",
        "tfidf_matrix = tfidf_vectorizer.fit_transform(data['Text'])"
      ]
    },
    {
      "cell_type": "code",
      "execution_count": 69,
      "id": "Dkbmp_CqPfWn",
      "metadata": {
        "id": "Dkbmp_CqPfWn"
      },
      "outputs": [],
      "source": [
        "tfidf_df = pd.DataFrame(tfidf_matrix.toarray(), columns=tfidf_vectorizer.get_feature_names_out())"
      ]
    },
    {
      "cell_type": "code",
      "execution_count": 70,
      "id": "iLvXptl0qtDy",
      "metadata": {
        "colab": {
          "base_uri": "https://localhost:8080/",
          "height": 423
        },
        "id": "iLvXptl0qtDy",
        "outputId": "df6450cd-e184-4f13-b352-666e920b747f"
      },
      "outputs": [
        {
          "output_type": "execute_result",
          "data": {
            "text/plain": [
              "       00       000  0001  000bn  000m  000th  001  001and  001st  0051  ...  \\\n",
              "0     0.0  0.000000   0.0    0.0   0.0    0.0  0.0     0.0    0.0   0.0  ...   \n",
              "1     0.0  0.000000   0.0    0.0   0.0    0.0  0.0     0.0    0.0   0.0  ...   \n",
              "2     0.0  0.020274   0.0    0.0   0.0    0.0  0.0     0.0    0.0   0.0  ...   \n",
              "3     0.0  0.017389   0.0    0.0   0.0    0.0  0.0     0.0    0.0   0.0  ...   \n",
              "4     0.0  0.000000   0.0    0.0   0.0    0.0  0.0     0.0    0.0   0.0  ...   \n",
              "...   ...       ...   ...    ...   ...    ...  ...     ...    ...   ...  ...   \n",
              "1485  0.0  0.030012   0.0    0.0   0.0    0.0  0.0     0.0    0.0   0.0  ...   \n",
              "1486  0.0  0.000000   0.0    0.0   0.0    0.0  0.0     0.0    0.0   0.0  ...   \n",
              "1487  0.0  0.000000   0.0    0.0   0.0    0.0  0.0     0.0    0.0   0.0  ...   \n",
              "1488  0.0  0.000000   0.0    0.0   0.0    0.0  0.0     0.0    0.0   0.0  ...   \n",
              "1489  0.0  0.023923   0.0    0.0   0.0    0.0  0.0     0.0    0.0   0.0  ...   \n",
              "\n",
              "      zonealarm  zones  zoom  zooms  zooropa  zorro  zuluaga  zurich  zutons  \\\n",
              "0           0.0    0.0   0.0    0.0      0.0    0.0      0.0     0.0     0.0   \n",
              "1           0.0    0.0   0.0    0.0      0.0    0.0      0.0     0.0     0.0   \n",
              "2           0.0    0.0   0.0    0.0      0.0    0.0      0.0     0.0     0.0   \n",
              "3           0.0    0.0   0.0    0.0      0.0    0.0      0.0     0.0     0.0   \n",
              "4           0.0    0.0   0.0    0.0      0.0    0.0      0.0     0.0     0.0   \n",
              "...         ...    ...   ...    ...      ...    ...      ...     ...     ...   \n",
              "1485        0.0    0.0   0.0    0.0      0.0    0.0      0.0     0.0     0.0   \n",
              "1486        0.0    0.0   0.0    0.0      0.0    0.0      0.0     0.0     0.0   \n",
              "1487        0.0    0.0   0.0    0.0      0.0    0.0      0.0     0.0     0.0   \n",
              "1488        0.0    0.0   0.0    0.0      0.0    0.0      0.0     0.0     0.0   \n",
              "1489        0.0    0.0   0.0    0.0      0.0    0.0      0.0     0.0     0.0   \n",
              "\n",
              "      zvonareva  \n",
              "0           0.0  \n",
              "1           0.0  \n",
              "2           0.0  \n",
              "3           0.0  \n",
              "4           0.0  \n",
              "...         ...  \n",
              "1485        0.0  \n",
              "1486        0.0  \n",
              "1487        0.0  \n",
              "1488        0.0  \n",
              "1489        0.0  \n",
              "\n",
              "[1490 rows x 24746 columns]"
            ],
            "text/html": [
              "\n",
              "  <div id=\"df-2e12e5f6-5a72-47f9-b858-7df3d4a12b3b\" class=\"colab-df-container\">\n",
              "    <div>\n",
              "<style scoped>\n",
              "    .dataframe tbody tr th:only-of-type {\n",
              "        vertical-align: middle;\n",
              "    }\n",
              "\n",
              "    .dataframe tbody tr th {\n",
              "        vertical-align: top;\n",
              "    }\n",
              "\n",
              "    .dataframe thead th {\n",
              "        text-align: right;\n",
              "    }\n",
              "</style>\n",
              "<table border=\"1\" class=\"dataframe\">\n",
              "  <thead>\n",
              "    <tr style=\"text-align: right;\">\n",
              "      <th></th>\n",
              "      <th>00</th>\n",
              "      <th>000</th>\n",
              "      <th>0001</th>\n",
              "      <th>000bn</th>\n",
              "      <th>000m</th>\n",
              "      <th>000th</th>\n",
              "      <th>001</th>\n",
              "      <th>001and</th>\n",
              "      <th>001st</th>\n",
              "      <th>0051</th>\n",
              "      <th>...</th>\n",
              "      <th>zonealarm</th>\n",
              "      <th>zones</th>\n",
              "      <th>zoom</th>\n",
              "      <th>zooms</th>\n",
              "      <th>zooropa</th>\n",
              "      <th>zorro</th>\n",
              "      <th>zuluaga</th>\n",
              "      <th>zurich</th>\n",
              "      <th>zutons</th>\n",
              "      <th>zvonareva</th>\n",
              "    </tr>\n",
              "  </thead>\n",
              "  <tbody>\n",
              "    <tr>\n",
              "      <th>0</th>\n",
              "      <td>0.0</td>\n",
              "      <td>0.000000</td>\n",
              "      <td>0.0</td>\n",
              "      <td>0.0</td>\n",
              "      <td>0.0</td>\n",
              "      <td>0.0</td>\n",
              "      <td>0.0</td>\n",
              "      <td>0.0</td>\n",
              "      <td>0.0</td>\n",
              "      <td>0.0</td>\n",
              "      <td>...</td>\n",
              "      <td>0.0</td>\n",
              "      <td>0.0</td>\n",
              "      <td>0.0</td>\n",
              "      <td>0.0</td>\n",
              "      <td>0.0</td>\n",
              "      <td>0.0</td>\n",
              "      <td>0.0</td>\n",
              "      <td>0.0</td>\n",
              "      <td>0.0</td>\n",
              "      <td>0.0</td>\n",
              "    </tr>\n",
              "    <tr>\n",
              "      <th>1</th>\n",
              "      <td>0.0</td>\n",
              "      <td>0.000000</td>\n",
              "      <td>0.0</td>\n",
              "      <td>0.0</td>\n",
              "      <td>0.0</td>\n",
              "      <td>0.0</td>\n",
              "      <td>0.0</td>\n",
              "      <td>0.0</td>\n",
              "      <td>0.0</td>\n",
              "      <td>0.0</td>\n",
              "      <td>...</td>\n",
              "      <td>0.0</td>\n",
              "      <td>0.0</td>\n",
              "      <td>0.0</td>\n",
              "      <td>0.0</td>\n",
              "      <td>0.0</td>\n",
              "      <td>0.0</td>\n",
              "      <td>0.0</td>\n",
              "      <td>0.0</td>\n",
              "      <td>0.0</td>\n",
              "      <td>0.0</td>\n",
              "    </tr>\n",
              "    <tr>\n",
              "      <th>2</th>\n",
              "      <td>0.0</td>\n",
              "      <td>0.020274</td>\n",
              "      <td>0.0</td>\n",
              "      <td>0.0</td>\n",
              "      <td>0.0</td>\n",
              "      <td>0.0</td>\n",
              "      <td>0.0</td>\n",
              "      <td>0.0</td>\n",
              "      <td>0.0</td>\n",
              "      <td>0.0</td>\n",
              "      <td>...</td>\n",
              "      <td>0.0</td>\n",
              "      <td>0.0</td>\n",
              "      <td>0.0</td>\n",
              "      <td>0.0</td>\n",
              "      <td>0.0</td>\n",
              "      <td>0.0</td>\n",
              "      <td>0.0</td>\n",
              "      <td>0.0</td>\n",
              "      <td>0.0</td>\n",
              "      <td>0.0</td>\n",
              "    </tr>\n",
              "    <tr>\n",
              "      <th>3</th>\n",
              "      <td>0.0</td>\n",
              "      <td>0.017389</td>\n",
              "      <td>0.0</td>\n",
              "      <td>0.0</td>\n",
              "      <td>0.0</td>\n",
              "      <td>0.0</td>\n",
              "      <td>0.0</td>\n",
              "      <td>0.0</td>\n",
              "      <td>0.0</td>\n",
              "      <td>0.0</td>\n",
              "      <td>...</td>\n",
              "      <td>0.0</td>\n",
              "      <td>0.0</td>\n",
              "      <td>0.0</td>\n",
              "      <td>0.0</td>\n",
              "      <td>0.0</td>\n",
              "      <td>0.0</td>\n",
              "      <td>0.0</td>\n",
              "      <td>0.0</td>\n",
              "      <td>0.0</td>\n",
              "      <td>0.0</td>\n",
              "    </tr>\n",
              "    <tr>\n",
              "      <th>4</th>\n",
              "      <td>0.0</td>\n",
              "      <td>0.000000</td>\n",
              "      <td>0.0</td>\n",
              "      <td>0.0</td>\n",
              "      <td>0.0</td>\n",
              "      <td>0.0</td>\n",
              "      <td>0.0</td>\n",
              "      <td>0.0</td>\n",
              "      <td>0.0</td>\n",
              "      <td>0.0</td>\n",
              "      <td>...</td>\n",
              "      <td>0.0</td>\n",
              "      <td>0.0</td>\n",
              "      <td>0.0</td>\n",
              "      <td>0.0</td>\n",
              "      <td>0.0</td>\n",
              "      <td>0.0</td>\n",
              "      <td>0.0</td>\n",
              "      <td>0.0</td>\n",
              "      <td>0.0</td>\n",
              "      <td>0.0</td>\n",
              "    </tr>\n",
              "    <tr>\n",
              "      <th>...</th>\n",
              "      <td>...</td>\n",
              "      <td>...</td>\n",
              "      <td>...</td>\n",
              "      <td>...</td>\n",
              "      <td>...</td>\n",
              "      <td>...</td>\n",
              "      <td>...</td>\n",
              "      <td>...</td>\n",
              "      <td>...</td>\n",
              "      <td>...</td>\n",
              "      <td>...</td>\n",
              "      <td>...</td>\n",
              "      <td>...</td>\n",
              "      <td>...</td>\n",
              "      <td>...</td>\n",
              "      <td>...</td>\n",
              "      <td>...</td>\n",
              "      <td>...</td>\n",
              "      <td>...</td>\n",
              "      <td>...</td>\n",
              "      <td>...</td>\n",
              "    </tr>\n",
              "    <tr>\n",
              "      <th>1485</th>\n",
              "      <td>0.0</td>\n",
              "      <td>0.030012</td>\n",
              "      <td>0.0</td>\n",
              "      <td>0.0</td>\n",
              "      <td>0.0</td>\n",
              "      <td>0.0</td>\n",
              "      <td>0.0</td>\n",
              "      <td>0.0</td>\n",
              "      <td>0.0</td>\n",
              "      <td>0.0</td>\n",
              "      <td>...</td>\n",
              "      <td>0.0</td>\n",
              "      <td>0.0</td>\n",
              "      <td>0.0</td>\n",
              "      <td>0.0</td>\n",
              "      <td>0.0</td>\n",
              "      <td>0.0</td>\n",
              "      <td>0.0</td>\n",
              "      <td>0.0</td>\n",
              "      <td>0.0</td>\n",
              "      <td>0.0</td>\n",
              "    </tr>\n",
              "    <tr>\n",
              "      <th>1486</th>\n",
              "      <td>0.0</td>\n",
              "      <td>0.000000</td>\n",
              "      <td>0.0</td>\n",
              "      <td>0.0</td>\n",
              "      <td>0.0</td>\n",
              "      <td>0.0</td>\n",
              "      <td>0.0</td>\n",
              "      <td>0.0</td>\n",
              "      <td>0.0</td>\n",
              "      <td>0.0</td>\n",
              "      <td>...</td>\n",
              "      <td>0.0</td>\n",
              "      <td>0.0</td>\n",
              "      <td>0.0</td>\n",
              "      <td>0.0</td>\n",
              "      <td>0.0</td>\n",
              "      <td>0.0</td>\n",
              "      <td>0.0</td>\n",
              "      <td>0.0</td>\n",
              "      <td>0.0</td>\n",
              "      <td>0.0</td>\n",
              "    </tr>\n",
              "    <tr>\n",
              "      <th>1487</th>\n",
              "      <td>0.0</td>\n",
              "      <td>0.000000</td>\n",
              "      <td>0.0</td>\n",
              "      <td>0.0</td>\n",
              "      <td>0.0</td>\n",
              "      <td>0.0</td>\n",
              "      <td>0.0</td>\n",
              "      <td>0.0</td>\n",
              "      <td>0.0</td>\n",
              "      <td>0.0</td>\n",
              "      <td>...</td>\n",
              "      <td>0.0</td>\n",
              "      <td>0.0</td>\n",
              "      <td>0.0</td>\n",
              "      <td>0.0</td>\n",
              "      <td>0.0</td>\n",
              "      <td>0.0</td>\n",
              "      <td>0.0</td>\n",
              "      <td>0.0</td>\n",
              "      <td>0.0</td>\n",
              "      <td>0.0</td>\n",
              "    </tr>\n",
              "    <tr>\n",
              "      <th>1488</th>\n",
              "      <td>0.0</td>\n",
              "      <td>0.000000</td>\n",
              "      <td>0.0</td>\n",
              "      <td>0.0</td>\n",
              "      <td>0.0</td>\n",
              "      <td>0.0</td>\n",
              "      <td>0.0</td>\n",
              "      <td>0.0</td>\n",
              "      <td>0.0</td>\n",
              "      <td>0.0</td>\n",
              "      <td>...</td>\n",
              "      <td>0.0</td>\n",
              "      <td>0.0</td>\n",
              "      <td>0.0</td>\n",
              "      <td>0.0</td>\n",
              "      <td>0.0</td>\n",
              "      <td>0.0</td>\n",
              "      <td>0.0</td>\n",
              "      <td>0.0</td>\n",
              "      <td>0.0</td>\n",
              "      <td>0.0</td>\n",
              "    </tr>\n",
              "    <tr>\n",
              "      <th>1489</th>\n",
              "      <td>0.0</td>\n",
              "      <td>0.023923</td>\n",
              "      <td>0.0</td>\n",
              "      <td>0.0</td>\n",
              "      <td>0.0</td>\n",
              "      <td>0.0</td>\n",
              "      <td>0.0</td>\n",
              "      <td>0.0</td>\n",
              "      <td>0.0</td>\n",
              "      <td>0.0</td>\n",
              "      <td>...</td>\n",
              "      <td>0.0</td>\n",
              "      <td>0.0</td>\n",
              "      <td>0.0</td>\n",
              "      <td>0.0</td>\n",
              "      <td>0.0</td>\n",
              "      <td>0.0</td>\n",
              "      <td>0.0</td>\n",
              "      <td>0.0</td>\n",
              "      <td>0.0</td>\n",
              "      <td>0.0</td>\n",
              "    </tr>\n",
              "  </tbody>\n",
              "</table>\n",
              "<p>1490 rows × 24746 columns</p>\n",
              "</div>\n",
              "    <div class=\"colab-df-buttons\">\n",
              "\n",
              "  <div class=\"colab-df-container\">\n",
              "    <button class=\"colab-df-convert\" onclick=\"convertToInteractive('df-2e12e5f6-5a72-47f9-b858-7df3d4a12b3b')\"\n",
              "            title=\"Convert this dataframe to an interactive table.\"\n",
              "            style=\"display:none;\">\n",
              "\n",
              "  <svg xmlns=\"http://www.w3.org/2000/svg\" height=\"24px\" viewBox=\"0 -960 960 960\">\n",
              "    <path d=\"M120-120v-720h720v720H120Zm60-500h600v-160H180v160Zm220 220h160v-160H400v160Zm0 220h160v-160H400v160ZM180-400h160v-160H180v160Zm440 0h160v-160H620v160ZM180-180h160v-160H180v160Zm440 0h160v-160H620v160Z\"/>\n",
              "  </svg>\n",
              "    </button>\n",
              "\n",
              "  <style>\n",
              "    .colab-df-container {\n",
              "      display:flex;\n",
              "      gap: 12px;\n",
              "    }\n",
              "\n",
              "    .colab-df-convert {\n",
              "      background-color: #E8F0FE;\n",
              "      border: none;\n",
              "      border-radius: 50%;\n",
              "      cursor: pointer;\n",
              "      display: none;\n",
              "      fill: #1967D2;\n",
              "      height: 32px;\n",
              "      padding: 0 0 0 0;\n",
              "      width: 32px;\n",
              "    }\n",
              "\n",
              "    .colab-df-convert:hover {\n",
              "      background-color: #E2EBFA;\n",
              "      box-shadow: 0px 1px 2px rgba(60, 64, 67, 0.3), 0px 1px 3px 1px rgba(60, 64, 67, 0.15);\n",
              "      fill: #174EA6;\n",
              "    }\n",
              "\n",
              "    .colab-df-buttons div {\n",
              "      margin-bottom: 4px;\n",
              "    }\n",
              "\n",
              "    [theme=dark] .colab-df-convert {\n",
              "      background-color: #3B4455;\n",
              "      fill: #D2E3FC;\n",
              "    }\n",
              "\n",
              "    [theme=dark] .colab-df-convert:hover {\n",
              "      background-color: #434B5C;\n",
              "      box-shadow: 0px 1px 3px 1px rgba(0, 0, 0, 0.15);\n",
              "      filter: drop-shadow(0px 1px 2px rgba(0, 0, 0, 0.3));\n",
              "      fill: #FFFFFF;\n",
              "    }\n",
              "  </style>\n",
              "\n",
              "    <script>\n",
              "      const buttonEl =\n",
              "        document.querySelector('#df-2e12e5f6-5a72-47f9-b858-7df3d4a12b3b button.colab-df-convert');\n",
              "      buttonEl.style.display =\n",
              "        google.colab.kernel.accessAllowed ? 'block' : 'none';\n",
              "\n",
              "      async function convertToInteractive(key) {\n",
              "        const element = document.querySelector('#df-2e12e5f6-5a72-47f9-b858-7df3d4a12b3b');\n",
              "        const dataTable =\n",
              "          await google.colab.kernel.invokeFunction('convertToInteractive',\n",
              "                                                    [key], {});\n",
              "        if (!dataTable) return;\n",
              "\n",
              "        const docLinkHtml = 'Like what you see? Visit the ' +\n",
              "          '<a target=\"_blank\" href=https://colab.research.google.com/notebooks/data_table.ipynb>data table notebook</a>'\n",
              "          + ' to learn more about interactive tables.';\n",
              "        element.innerHTML = '';\n",
              "        dataTable['output_type'] = 'display_data';\n",
              "        await google.colab.output.renderOutput(dataTable, element);\n",
              "        const docLink = document.createElement('div');\n",
              "        docLink.innerHTML = docLinkHtml;\n",
              "        element.appendChild(docLink);\n",
              "      }\n",
              "    </script>\n",
              "  </div>\n",
              "\n",
              "\n",
              "<div id=\"df-8ed75480-df20-4395-a9b4-372ee681f739\">\n",
              "  <button class=\"colab-df-quickchart\" onclick=\"quickchart('df-8ed75480-df20-4395-a9b4-372ee681f739')\"\n",
              "            title=\"Suggest charts\"\n",
              "            style=\"display:none;\">\n",
              "\n",
              "<svg xmlns=\"http://www.w3.org/2000/svg\" height=\"24px\"viewBox=\"0 0 24 24\"\n",
              "     width=\"24px\">\n",
              "    <g>\n",
              "        <path d=\"M19 3H5c-1.1 0-2 .9-2 2v14c0 1.1.9 2 2 2h14c1.1 0 2-.9 2-2V5c0-1.1-.9-2-2-2zM9 17H7v-7h2v7zm4 0h-2V7h2v10zm4 0h-2v-4h2v4z\"/>\n",
              "    </g>\n",
              "</svg>\n",
              "  </button>\n",
              "\n",
              "<style>\n",
              "  .colab-df-quickchart {\n",
              "      --bg-color: #E8F0FE;\n",
              "      --fill-color: #1967D2;\n",
              "      --hover-bg-color: #E2EBFA;\n",
              "      --hover-fill-color: #174EA6;\n",
              "      --disabled-fill-color: #AAA;\n",
              "      --disabled-bg-color: #DDD;\n",
              "  }\n",
              "\n",
              "  [theme=dark] .colab-df-quickchart {\n",
              "      --bg-color: #3B4455;\n",
              "      --fill-color: #D2E3FC;\n",
              "      --hover-bg-color: #434B5C;\n",
              "      --hover-fill-color: #FFFFFF;\n",
              "      --disabled-bg-color: #3B4455;\n",
              "      --disabled-fill-color: #666;\n",
              "  }\n",
              "\n",
              "  .colab-df-quickchart {\n",
              "    background-color: var(--bg-color);\n",
              "    border: none;\n",
              "    border-radius: 50%;\n",
              "    cursor: pointer;\n",
              "    display: none;\n",
              "    fill: var(--fill-color);\n",
              "    height: 32px;\n",
              "    padding: 0;\n",
              "    width: 32px;\n",
              "  }\n",
              "\n",
              "  .colab-df-quickchart:hover {\n",
              "    background-color: var(--hover-bg-color);\n",
              "    box-shadow: 0 1px 2px rgba(60, 64, 67, 0.3), 0 1px 3px 1px rgba(60, 64, 67, 0.15);\n",
              "    fill: var(--button-hover-fill-color);\n",
              "  }\n",
              "\n",
              "  .colab-df-quickchart-complete:disabled,\n",
              "  .colab-df-quickchart-complete:disabled:hover {\n",
              "    background-color: var(--disabled-bg-color);\n",
              "    fill: var(--disabled-fill-color);\n",
              "    box-shadow: none;\n",
              "  }\n",
              "\n",
              "  .colab-df-spinner {\n",
              "    border: 2px solid var(--fill-color);\n",
              "    border-color: transparent;\n",
              "    border-bottom-color: var(--fill-color);\n",
              "    animation:\n",
              "      spin 1s steps(1) infinite;\n",
              "  }\n",
              "\n",
              "  @keyframes spin {\n",
              "    0% {\n",
              "      border-color: transparent;\n",
              "      border-bottom-color: var(--fill-color);\n",
              "      border-left-color: var(--fill-color);\n",
              "    }\n",
              "    20% {\n",
              "      border-color: transparent;\n",
              "      border-left-color: var(--fill-color);\n",
              "      border-top-color: var(--fill-color);\n",
              "    }\n",
              "    30% {\n",
              "      border-color: transparent;\n",
              "      border-left-color: var(--fill-color);\n",
              "      border-top-color: var(--fill-color);\n",
              "      border-right-color: var(--fill-color);\n",
              "    }\n",
              "    40% {\n",
              "      border-color: transparent;\n",
              "      border-right-color: var(--fill-color);\n",
              "      border-top-color: var(--fill-color);\n",
              "    }\n",
              "    60% {\n",
              "      border-color: transparent;\n",
              "      border-right-color: var(--fill-color);\n",
              "    }\n",
              "    80% {\n",
              "      border-color: transparent;\n",
              "      border-right-color: var(--fill-color);\n",
              "      border-bottom-color: var(--fill-color);\n",
              "    }\n",
              "    90% {\n",
              "      border-color: transparent;\n",
              "      border-bottom-color: var(--fill-color);\n",
              "    }\n",
              "  }\n",
              "</style>\n",
              "\n",
              "  <script>\n",
              "    async function quickchart(key) {\n",
              "      const quickchartButtonEl =\n",
              "        document.querySelector('#' + key + ' button');\n",
              "      quickchartButtonEl.disabled = true;  // To prevent multiple clicks.\n",
              "      quickchartButtonEl.classList.add('colab-df-spinner');\n",
              "      try {\n",
              "        const charts = await google.colab.kernel.invokeFunction(\n",
              "            'suggestCharts', [key], {});\n",
              "      } catch (error) {\n",
              "        console.error('Error during call to suggestCharts:', error);\n",
              "      }\n",
              "      quickchartButtonEl.classList.remove('colab-df-spinner');\n",
              "      quickchartButtonEl.classList.add('colab-df-quickchart-complete');\n",
              "    }\n",
              "    (() => {\n",
              "      let quickchartButtonEl =\n",
              "        document.querySelector('#df-8ed75480-df20-4395-a9b4-372ee681f739 button');\n",
              "      quickchartButtonEl.style.display =\n",
              "        google.colab.kernel.accessAllowed ? 'block' : 'none';\n",
              "    })();\n",
              "  </script>\n",
              "</div>\n",
              "\n",
              "  <div id=\"id_6259fdd2-ef34-41e3-9520-6e836f7f251f\">\n",
              "    <style>\n",
              "      .colab-df-generate {\n",
              "        background-color: #E8F0FE;\n",
              "        border: none;\n",
              "        border-radius: 50%;\n",
              "        cursor: pointer;\n",
              "        display: none;\n",
              "        fill: #1967D2;\n",
              "        height: 32px;\n",
              "        padding: 0 0 0 0;\n",
              "        width: 32px;\n",
              "      }\n",
              "\n",
              "      .colab-df-generate:hover {\n",
              "        background-color: #E2EBFA;\n",
              "        box-shadow: 0px 1px 2px rgba(60, 64, 67, 0.3), 0px 1px 3px 1px rgba(60, 64, 67, 0.15);\n",
              "        fill: #174EA6;\n",
              "      }\n",
              "\n",
              "      [theme=dark] .colab-df-generate {\n",
              "        background-color: #3B4455;\n",
              "        fill: #D2E3FC;\n",
              "      }\n",
              "\n",
              "      [theme=dark] .colab-df-generate:hover {\n",
              "        background-color: #434B5C;\n",
              "        box-shadow: 0px 1px 3px 1px rgba(0, 0, 0, 0.15);\n",
              "        filter: drop-shadow(0px 1px 2px rgba(0, 0, 0, 0.3));\n",
              "        fill: #FFFFFF;\n",
              "      }\n",
              "    </style>\n",
              "    <button class=\"colab-df-generate\" onclick=\"generateWithVariable('tfidf_df')\"\n",
              "            title=\"Generate code using this dataframe.\"\n",
              "            style=\"display:none;\">\n",
              "\n",
              "  <svg xmlns=\"http://www.w3.org/2000/svg\" height=\"24px\"viewBox=\"0 0 24 24\"\n",
              "       width=\"24px\">\n",
              "    <path d=\"M7,19H8.4L18.45,9,17,7.55,7,17.6ZM5,21V16.75L18.45,3.32a2,2,0,0,1,2.83,0l1.4,1.43a1.91,1.91,0,0,1,.58,1.4,1.91,1.91,0,0,1-.58,1.4L9.25,21ZM18.45,9,17,7.55Zm-12,3A5.31,5.31,0,0,0,4.9,8.1,5.31,5.31,0,0,0,1,6.5,5.31,5.31,0,0,0,4.9,4.9,5.31,5.31,0,0,0,6.5,1,5.31,5.31,0,0,0,8.1,4.9,5.31,5.31,0,0,0,12,6.5,5.46,5.46,0,0,0,6.5,12Z\"/>\n",
              "  </svg>\n",
              "    </button>\n",
              "    <script>\n",
              "      (() => {\n",
              "      const buttonEl =\n",
              "        document.querySelector('#id_6259fdd2-ef34-41e3-9520-6e836f7f251f button.colab-df-generate');\n",
              "      buttonEl.style.display =\n",
              "        google.colab.kernel.accessAllowed ? 'block' : 'none';\n",
              "\n",
              "      buttonEl.onclick = () => {\n",
              "        google.colab.notebook.generateWithVariable('tfidf_df');\n",
              "      }\n",
              "      })();\n",
              "    </script>\n",
              "  </div>\n",
              "\n",
              "    </div>\n",
              "  </div>\n"
            ]
          },
          "metadata": {},
          "execution_count": 70
        }
      ],
      "source": [
        "tfidf_df"
      ]
    },
    {
      "cell_type": "code",
      "execution_count": 71,
      "id": "OE1W5XYvPfZX",
      "metadata": {
        "colab": {
          "base_uri": "https://localhost:8080/"
        },
        "id": "OE1W5XYvPfZX",
        "outputId": "7ff3f3f0-3420-440f-8214-88491a871b0e"
      },
      "outputs": [
        {
          "output_type": "stream",
          "name": "stdout",
          "text": [
            "Cosine Similarity between Article 1833 and Article 154: 0.07875931547482325\n"
          ]
        }
      ],
      "source": [
        "# Calculate Cosine Similarity between the first two articles\n",
        "article1_index = 0\n",
        "article2_index = 1\n",
        "\n",
        "cosine_sim = cosine_similarity(tfidf_matrix[article1_index], tfidf_matrix[article2_index])\n",
        "print(f\"Cosine Similarity between Article {data['ArticleId'][article1_index]} and Article {data['ArticleId'][article2_index]}: {cosine_sim[0][0]}\")"
      ]
    },
    {
      "cell_type": "code",
      "execution_count": 72,
      "id": "65d1a6e2",
      "metadata": {
        "colab": {
          "base_uri": "https://localhost:8080/"
        },
        "id": "65d1a6e2",
        "outputId": "d985b552-2adc-4d46-b23f-696588d7737b"
      },
      "outputs": [
        {
          "output_type": "stream",
          "name": "stdout",
          "text": [
            "\n",
            "Kernel: linear\n",
            "Accuracy: 0.9765100671140939\n",
            "Classification Report:\n",
            "                precision    recall  f1-score   support\n",
            "\n",
            "     business       0.97      0.99      0.98        75\n",
            "entertainment       0.96      0.98      0.97        46\n",
            "     politics       0.95      0.96      0.96        56\n",
            "        sport       1.00      1.00      1.00        63\n",
            "         tech       1.00      0.95      0.97        58\n",
            "\n",
            "     accuracy                           0.98       298\n",
            "    macro avg       0.98      0.98      0.98       298\n",
            " weighted avg       0.98      0.98      0.98       298\n",
            "\n",
            "\n",
            "Kernel: rbf\n",
            "Accuracy: 0.9731543624161074\n",
            "Classification Report:\n",
            "                precision    recall  f1-score   support\n",
            "\n",
            "     business       0.96      0.99      0.97        75\n",
            "entertainment       0.96      0.98      0.97        46\n",
            "     politics       0.95      0.95      0.95        56\n",
            "        sport       1.00      1.00      1.00        63\n",
            "         tech       1.00      0.95      0.97        58\n",
            "\n",
            "     accuracy                           0.97       298\n",
            "    macro avg       0.97      0.97      0.97       298\n",
            " weighted avg       0.97      0.97      0.97       298\n",
            "\n",
            "\n",
            "Kernel: poly\n",
            "Accuracy: 0.9395973154362416\n",
            "Classification Report:\n",
            "                precision    recall  f1-score   support\n",
            "\n",
            "     business       0.86      0.99      0.92        75\n",
            "entertainment       0.98      0.93      0.96        46\n",
            "     politics       0.96      0.93      0.95        56\n",
            "        sport       0.95      1.00      0.98        63\n",
            "         tech       1.00      0.83      0.91        58\n",
            "\n",
            "     accuracy                           0.94       298\n",
            "    macro avg       0.95      0.94      0.94       298\n",
            " weighted avg       0.94      0.94      0.94       298\n",
            "\n",
            "\n",
            "Kernel: sigmoid\n",
            "Accuracy: 0.9765100671140939\n",
            "Classification Report:\n",
            "                precision    recall  f1-score   support\n",
            "\n",
            "     business       0.97      0.99      0.98        75\n",
            "entertainment       0.96      0.98      0.97        46\n",
            "     politics       0.95      0.96      0.96        56\n",
            "        sport       1.00      1.00      1.00        63\n",
            "         tech       1.00      0.95      0.97        58\n",
            "\n",
            "     accuracy                           0.98       298\n",
            "    macro avg       0.98      0.98      0.98       298\n",
            " weighted avg       0.98      0.98      0.98       298\n",
            "\n"
          ]
        }
      ],
      "source": [
        "import pandas as pd\n",
        "from sklearn.model_selection import train_test_split\n",
        "from sklearn.feature_extraction.text import TfidfVectorizer\n",
        "from sklearn.svm import SVC\n",
        "from sklearn.metrics import classification_report, accuracy_score\n",
        "\n",
        "X_train, X_test, y_train, y_test = train_test_split(data['Text'], data['Category'], test_size=0.2, random_state=42)\n",
        "\n",
        "vectorizer = TfidfVectorizer(max_features=5000)\n",
        "X_train_tfidf = vectorizer.fit_transform(X_train)\n",
        "X_test_tfidf = vectorizer.transform(X_test)\n",
        "\n",
        "kernels = ['linear', 'rbf', 'poly', 'sigmoid']\n",
        "\n",
        "for kernel in kernels:\n",
        "    svm_model = SVC(kernel=kernel)\n",
        "    svm_model.fit(X_train_tfidf, y_train)\n",
        "\n",
        "    y_pred = svm_model.predict(X_test_tfidf)\n",
        "\n",
        "    print(f\"\\nKernel: {kernel}\")\n",
        "    print(\"Accuracy:\", accuracy_score(y_test, y_pred))\n",
        "    print(\"Classification Report:\\n\", classification_report(y_test, y_pred))"
      ]
    },
    {
      "cell_type": "code",
      "source": [
        "# Assuming 'new_text' is the new text for which you want to predict the category\n",
        "new_texts = [\n",
        "    \"The latest breakthroughs in artificial intelligence are reshaping the tech industry.\",\n",
        "    \"The recent sports event showcased incredible performances from athletes around the world.\",\n",
        "    \"The stock market experienced a significant boost after positive economic reports.\",\n",
        "    \"A thrilling new movie has hit the theaters, capturing the attention of audiences.\",\n",
        "    \"Government officials announced a new policy aimed at addressing climate change and promoting sustainability.\"\n",
        "]\n",
        "\n",
        "for text in new_texts:\n",
        "    # Vectorize the new text using the same vectorizer\n",
        "    new_text_tfidf = vectorizer.transform([text])\n",
        "\n",
        "    # Make predictions using the trained SVM model\n",
        "    predicted_category = svm_model.predict(new_text_tfidf)\n",
        "\n",
        "    print(f\"\\nText: {text}\")\n",
        "    print(\"Predicted Category:\", predicted_category[0])"
      ],
      "metadata": {
        "colab": {
          "base_uri": "https://localhost:8080/"
        },
        "id": "IEFXTrJGm12c",
        "outputId": "99039e20-d98b-4de1-e07b-900083c4a5b1"
      },
      "id": "IEFXTrJGm12c",
      "execution_count": 73,
      "outputs": [
        {
          "output_type": "stream",
          "name": "stdout",
          "text": [
            "\n",
            "Text: The latest breakthroughs in artificial intelligence are reshaping the tech industry.\n",
            "Predicted Category: business\n",
            "\n",
            "Text: The recent sports event showcased incredible performances from athletes around the world.\n",
            "Predicted Category: sport\n",
            "\n",
            "Text: The stock market experienced a significant boost after positive economic reports.\n",
            "Predicted Category: business\n",
            "\n",
            "Text: A thrilling new movie has hit the theaters, capturing the attention of audiences.\n",
            "Predicted Category: entertainment\n",
            "\n",
            "Text: Government officials announced a new policy aimed at addressing climate change and promoting sustainability.\n",
            "Predicted Category: politics\n"
          ]
        }
      ]
    },
    {
      "cell_type": "markdown",
      "id": "zNJU3rIbrL26",
      "metadata": {
        "id": "zNJU3rIbrL26"
      },
      "source": [
        "### 8. Bonus: Choose a different dataset and perform NLP tasks using different techniques. Be creative!"
      ]
    },
    {
      "cell_type": "code",
      "execution_count": 74,
      "id": "_BVFEcyIrHoT",
      "metadata": {
        "colab": {
          "base_uri": "https://localhost:8080/"
        },
        "id": "_BVFEcyIrHoT",
        "outputId": "30a125ae-1c9b-460f-a8e6-6721c36a3a62"
      },
      "outputs": [
        {
          "output_type": "stream",
          "name": "stderr",
          "text": [
            "[nltk_data] Downloading package vader_lexicon to /root/nltk_data...\n",
            "[nltk_data]   Package vader_lexicon is already up-to-date!\n"
          ]
        },
        {
          "output_type": "stream",
          "name": "stdout",
          "text": [
            "                                                Text  NLTK_Sentiment  \\\n",
            "0           This is a positive sentence. I love NLP!          0.8553   \n",
            "1  Negative sentiment here. Not happy with the re...         -0.7716   \n",
            "2                      SpaCy is a great NLP library.          0.6249   \n",
            "3        NLTK provides powerful tools for NLP tasks.          0.4215   \n",
            "4            Word2Vec is a word embedding technique.          0.0000   \n",
            "5           TF-IDF is useful for text vectorization.          0.4404   \n",
            "\n",
            "   SpaCy_Token_Count                                     SpaCy_Pos_Tags  \\\n",
            "0                 10  [PRON, AUX, DET, ADJ, NOUN, PUNCT, PRON, VERB,...   \n",
            "1                 10  [ADJ, NOUN, ADV, PUNCT, PART, ADJ, ADP, DET, N...   \n",
            "2                  7         [PROPN, AUX, DET, ADJ, PROPN, NOUN, PUNCT]   \n",
            "3                  8  [PROPN, VERB, ADJ, NOUN, ADP, PROPN, NOUN, PUNCT]   \n",
            "4                  7         [PROPN, AUX, DET, NOUN, VERB, NOUN, PUNCT]   \n",
            "5                  9  [PROPN, PUNCT, PROPN, AUX, ADJ, ADP, NOUN, NOU...   \n",
            "\n",
            "                                     Word2Vec_Vector  \\\n",
            "0  [-0.0035277337, 0.00274968, -0.00018847843, -0...   \n",
            "1  [0.0017153807, -0.0015717458, 0.0028351296, 0....   \n",
            "2  [-0.0019497967, 0.0039836825, 0.0018333921, 0....   \n",
            "3  [-0.0023263297, 0.0017745675, -4.761509e-05, -...   \n",
            "4  [-0.0010019009, -0.0014980205, 0.0003587064, 0...   \n",
            "5  [0.0014700126, 0.00089101814, -0.000769915, 0....   \n",
            "\n",
            "                                        TFIDF_Vector  \n",
            "0  [0.0, 0.0, 0.0, 0.0, 0.0, 0.0, 0.2699072539044...  \n",
            "1  [0.0, 0.0, 0.0, 0.35355339059327373, 0.3535533...  \n",
            "2  [0.0, 0.0, 0.5108925731541276, 0.0, 0.0, 0.0, ...  \n",
            "3  [0.0, 0.33061545435992, 0.0, 0.0, 0.0, 0.0, 0....  \n",
            "4  [0.47935551837885115, 0.0, 0.0, 0.0, 0.0, 0.0,...  \n",
            "5  [0.0, 0.3340913675158525, 0.0, 0.0, 0.0, 0.407...  \n"
          ]
        }
      ],
      "source": [
        "import pandas as pd\n",
        "from sklearn.feature_extraction.text import TfidfVectorizer\n",
        "from sklearn.metrics.pairwise import cosine_similarity\n",
        "import nltk\n",
        "from nltk.sentiment import SentimentIntensityAnalyzer\n",
        "import spacy\n",
        "from gensim.models import Word2Vec\n",
        "\n",
        "# Sample dataset\n",
        "data = {\n",
        "    'Text': [\n",
        "        \"This is a positive sentence. I love NLP!\",\n",
        "        \"Negative sentiment here. Not happy with the results.\",\n",
        "        \"SpaCy is a great NLP library.\",\n",
        "        \"NLTK provides powerful tools for NLP tasks.\",\n",
        "        \"Word2Vec is a word embedding technique.\",\n",
        "        \"TF-IDF is useful for text vectorization.\"\n",
        "    ]\n",
        "}\n",
        "\n",
        "df = pd.DataFrame(data)\n",
        "\n",
        "# NLTK Sentiment Analysis\n",
        "nltk.download('vader_lexicon')\n",
        "sid = SentimentIntensityAnalyzer()\n",
        "df['NLTK_Sentiment'] = df['Text'].apply(lambda x: sid.polarity_scores(x)['compound'])\n",
        "\n",
        "# SpaCy NLP\n",
        "nlp = spacy.load('en_core_web_sm')\n",
        "df['SpaCy_Token_Count'] = df['Text'].apply(lambda x: len(nlp(x)))\n",
        "df['SpaCy_Pos_Tags'] = df['Text'].apply(lambda x: [token.pos_ for token in nlp(x)])\n",
        "\n",
        "# Word2Vec\n",
        "tokenized_sentences = [nltk.word_tokenize(sentence.lower()) for sentence in df['Text']]\n",
        "model = Word2Vec(sentences=tokenized_sentences, vector_size=100, window=5, min_count=1, workers=4)\n",
        "\n",
        "def get_word2vec_vector(sentence):\n",
        "    tokens = nltk.word_tokenize(sentence.lower())\n",
        "    vector_sum = sum(model.wv[token] for token in tokens if token in model.wv)\n",
        "    return vector_sum / len(tokens) if len(tokens) > 0 else None\n",
        "\n",
        "df['Word2Vec_Vector'] = df['Text'].apply(get_word2vec_vector)\n",
        "\n",
        "# TF-IDF\n",
        "tfidf_vectorizer = TfidfVectorizer()\n",
        "tfidf_matrix = tfidf_vectorizer.fit_transform(df['Text'])\n",
        "df['TFIDF_Vector'] = list(tfidf_matrix.toarray())\n",
        "\n",
        "# Display the DataFrame\n",
        "print(df)"
      ]
    },
    {
      "cell_type": "code",
      "execution_count": 74,
      "id": "jyY0OWSkP2RD",
      "metadata": {
        "id": "jyY0OWSkP2RD"
      },
      "outputs": [],
      "source": []
    }
  ],
  "metadata": {
    "colab": {
      "provenance": []
    },
    "kernelspec": {
      "display_name": "Python 3 (ipykernel)",
      "language": "python",
      "name": "python3"
    },
    "language_info": {
      "codemirror_mode": {
        "name": "ipython",
        "version": 3
      },
      "file_extension": ".py",
      "mimetype": "text/x-python",
      "name": "python",
      "nbconvert_exporter": "python",
      "pygments_lexer": "ipython3",
      "version": "3.10.9"
    }
  },
  "nbformat": 4,
  "nbformat_minor": 5
}